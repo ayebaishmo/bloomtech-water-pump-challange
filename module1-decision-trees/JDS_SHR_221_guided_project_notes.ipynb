{
  "cells": [
    {
      "cell_type": "markdown",
      "metadata": {
        "id": "RUhphDysw-6P"
      },
      "source": [
        "## BloomTech Data Science\n",
        "\n",
        "**Note on Imports**\n",
        "There have been some updates to the names of imports that will not match the names in the guided project. This is normal as pandas have updated the names and the current code has updated to match.\n",
        "Here is an [Article](https://www.datacamp.com/tutorial/pandas-profiling-ydata-profiling-in-python-guide) about the changes.\n",
        "---\n"
      ]
    },
    {
      "cell_type": "markdown",
      "metadata": {
        "id": "NvWhcow-dvS8"
      },
      "source": [
        "# Decision Trees\n",
        "\n",
        "- clean data with **outliers and missing values**\n",
        "- use scikit-learn for **decision trees**\n",
        "- get and interpret **feature importances** of a tree-based model\n",
        "- understand why decision trees are useful to model"
      ]
    },
    {
      "cell_type": "code",
      "execution_count": 1,
      "metadata": {
        "id": "HRgkCSgGdty-"
      },
      "outputs": [],
      "source": [
        "%%capture\n",
        "#!pip install category_encoders==2.*\n",
        "#pip install ydata_profiling==4.*"
      ]
    },
    {
      "cell_type": "code",
      "execution_count": 2,
      "metadata": {
        "ExecuteTime": {
          "end_time": "2023-07-06T14:23:30.486403Z",
          "start_time": "2023-07-06T14:23:30.474290Z"
        },
        "id": "Zp1eAYDMlLvn"
      },
      "outputs": [],
      "source": [
        "#from sklearn.model_selection import train_test_split\n",
        "#from sklearn.pipeline import make_pipeline\n",
        "#from category_encoders import OneHotEncoder, OrdinalEncoder\n",
        "#from sklearn.preprocessing import StandardScaler\n",
        "#from sklearn.impute import SimpleImputer\n",
        "#from sklearn.linear_model import LogisticRegression\n",
        "#from sklearn.metrics import accuracy_score\n",
        "#from sklearn.tree import DecisionTreeClassifier, plot_tree\n",
        "#from pandas_profiling import ProfileReport\n",
        "#import matplotlib.pyplot as plt\n",
        "import pandas as pd\n",
        "import numpy as np\n",
        "\n",
        "# pd.options.display.max_rows = 100"
      ]
    },
    {
      "cell_type": "markdown",
      "metadata": {
        "id": "sUmaaCmCprYw"
      },
      "source": [
        "# Downloading the Tanzania Waterpump Dataset"
      ]
    },
    {
      "cell_type": "markdown",
      "metadata": {
        "id": "nUUieyFk5A9u"
      },
      "source": [
        "Make sure  you only use the dataset that is available through the **DS** **Kaggle Competition**. DO NOT USE any other Tanzania waterpump datasets that you might find online.\n",
        "\n",
        "There are two ways you can get the dataset. Make sure you have joined the competition first!:\n",
        "\n",
        "1. You can download the dataset directly by accessing the challenge and the files through the Kaggle Competition URL on Canvas (make sure you have joined the competition!)\n",
        "\n",
        "2. Use the Kaggle API using the code in the following cells. This article provides helpful information on how to fetch your Kaggle Dataset into Google Colab using the Kaggle API.\n",
        "\n",
        "> https://medium.com/analytics-vidhya/how-to-fetch-kaggle-datasets-into-google-colab-ea682569851a"
      ]
    },
    {
      "cell_type": "markdown",
      "metadata": {
        "id": "d6TZ5nDFYkCa"
      },
      "source": [
        "# Using Kaggle API to download dataset"
      ]
    },
    {
      "cell_type": "code",
      "execution_count": 3,
      "metadata": {
        "id": "X2e6fPUATxLZ"
      },
      "outputs": [],
      "source": [
        "# mounting your google drive on colab\n",
        "#from google.colab import drive\n",
        "#drive.mount('/content/gdrive')"
      ]
    },
    {
      "cell_type": "code",
      "execution_count": 4,
      "metadata": {
        "id": "xKVUgI4vedVO"
      },
      "outputs": [],
      "source": [
        "#from google.colab import drive\n",
        "#drive.mount('/content/drive')"
      ]
    },
    {
      "cell_type": "code",
      "execution_count": 5,
      "metadata": {
        "id": "KYSpUv9uYBAo"
      },
      "outputs": [],
      "source": [
        "#change your working directory, if you want to or have already saved your kaggle dataset on google drive.\n",
        "#%cd /content/gdrive/My Drive/Kaggle\n",
        "# update it to your folder location on drive that contians the dataset and/or kaggle API token json file."
      ]
    },
    {
      "cell_type": "code",
      "execution_count": 6,
      "metadata": {
        "id": "dXChvgdZYb_t"
      },
      "outputs": [],
      "source": [
        "# Download your Kaggle Dataset, if you haven't already done so\n",
        "#import os\n",
        "#os.environ['KAGGLE_CONFIG_DIR'] = \"/content/gdrive/My Drive/Kaggle\" # providing the config path to kaggle.json\n",
        "#!kaggle competitions download -c bloomtech-water-pump-challenge # downloading dataset by running the Kaggle API command"
      ]
    },
    {
      "cell_type": "code",
      "execution_count": 7,
      "metadata": {
        "id": "NB84qgRRYdDF"
      },
      "outputs": [],
      "source": [
        "# Unzip your Kaggle dataset, if you haven't already done so.\n",
        "# !unzip \\*.zip  && rm *.zip"
      ]
    },
    {
      "cell_type": "code",
      "execution_count": 8,
      "metadata": {
        "id": "eag2zYiQYf6q"
      },
      "outputs": [],
      "source": [
        "# List all files in your Kaggle folder on your google drive.\n",
        "#!ls"
      ]
    },
    {
      "cell_type": "code",
      "execution_count": 9,
      "metadata": {
        "id": "hXpMHyrIzp0K"
      },
      "outputs": [],
      "source": [
        "import pandas as pd\n",
        "train_features = pd.read_csv('C:/Users/ISHMO_CT/Downloads/bloomtech-water-pump-challenge/train_features.csv')\n",
        "train_labels = pd.read_csv('C:/Users/ISHMO_CT/Downloads/bloomtech-water-pump-challenge/train_labels.csv')\n",
        "test_features = pd.read_csv('C:/Users/ISHMO_CT/Downloads/bloomtech-water-pump-challenge/test_features.csv')"
      ]
    },
    {
      "cell_type": "markdown",
      "metadata": {
        "collapsed": false,
        "id": "DDP8tbXFrWDI"
      },
      "source": [
        "### Data - Option 2\n",
        "If you're having trouble with getting the Kaggle data mounted in Google Drive, here's another option..."
      ]
    },
    {
      "cell_type": "code",
      "execution_count": 10,
      "metadata": {
        "ExecuteTime": {
          "end_time": "2023-07-06T14:24:40.976263Z",
          "start_time": "2023-07-06T14:24:40.972839Z"
        },
        "id": "A4SUisF8rWDI"
      },
      "outputs": [],
      "source": [
        "#DATAPATH = \"https://raw.githubusercontent.com/bloominstituteoftechnology/DS-Unit-2-Kaggle-Challenge/master/data/kaggle/\""
      ]
    },
    {
      "cell_type": "code",
      "execution_count": 11,
      "metadata": {
        "ExecuteTime": {
          "end_time": "2023-07-06T14:33:54.504912Z",
          "start_time": "2023-07-06T14:33:51.094703Z"
        },
        "id": "gz5i5KB2rWDI"
      },
      "outputs": [],
      "source": [
        "#train_features = pd.read_csv(DATAPATH + 'train_features.csv')\n",
        "#train_labels = pd.read_csv(DATAPATH + 'train_labels.csv')\n",
        "#test_features = pd.read_csv(DATAPATH + 'test_features.csv')"
      ]
    },
    {
      "cell_type": "markdown",
      "metadata": {
        "collapsed": false,
        "id": "3ESiJySlrWDI"
      },
      "source": [
        "# I. Wrangle Data\n"
      ]
    },
    {
      "cell_type": "code",
      "execution_count": 12,
      "metadata": {
        "ExecuteTime": {
          "end_time": "2023-07-06T14:33:55.961275Z",
          "start_time": "2023-07-06T14:33:55.951710Z"
        },
        "id": "UbOEOI0Sztn0",
        "outputId": "70366fb6-8a18-4def-e98d-bd57c0af3c79"
      },
      "outputs": [
        {
          "data": {
            "text/html": [
              "<div>\n",
              "<style scoped>\n",
              "    .dataframe tbody tr th:only-of-type {\n",
              "        vertical-align: middle;\n",
              "    }\n",
              "\n",
              "    .dataframe tbody tr th {\n",
              "        vertical-align: top;\n",
              "    }\n",
              "\n",
              "    .dataframe thead th {\n",
              "        text-align: right;\n",
              "    }\n",
              "</style>\n",
              "<table border=\"1\" class=\"dataframe\">\n",
              "  <thead>\n",
              "    <tr style=\"text-align: right;\">\n",
              "      <th></th>\n",
              "      <th>id</th>\n",
              "      <th>amount_tsh</th>\n",
              "      <th>date_recorded</th>\n",
              "      <th>funder</th>\n",
              "      <th>gps_height</th>\n",
              "      <th>installer</th>\n",
              "      <th>longitude</th>\n",
              "      <th>latitude</th>\n",
              "      <th>wpt_name</th>\n",
              "      <th>num_private</th>\n",
              "      <th>...</th>\n",
              "      <th>payment_type</th>\n",
              "      <th>water_quality</th>\n",
              "      <th>quality_group</th>\n",
              "      <th>quantity</th>\n",
              "      <th>quantity_group</th>\n",
              "      <th>source</th>\n",
              "      <th>source_type</th>\n",
              "      <th>source_class</th>\n",
              "      <th>waterpoint_type</th>\n",
              "      <th>waterpoint_type_group</th>\n",
              "    </tr>\n",
              "  </thead>\n",
              "  <tbody>\n",
              "    <tr>\n",
              "      <th>0</th>\n",
              "      <td>454</td>\n",
              "      <td>50.0</td>\n",
              "      <td>2013-02-27</td>\n",
              "      <td>Dmdd</td>\n",
              "      <td>2092</td>\n",
              "      <td>DMDD</td>\n",
              "      <td>35.426020</td>\n",
              "      <td>-4.227446</td>\n",
              "      <td>Narmo</td>\n",
              "      <td>0</td>\n",
              "      <td>...</td>\n",
              "      <td>per bucket</td>\n",
              "      <td>soft</td>\n",
              "      <td>good</td>\n",
              "      <td>insufficient</td>\n",
              "      <td>insufficient</td>\n",
              "      <td>spring</td>\n",
              "      <td>spring</td>\n",
              "      <td>groundwater</td>\n",
              "      <td>communal standpipe</td>\n",
              "      <td>communal standpipe</td>\n",
              "    </tr>\n",
              "    <tr>\n",
              "      <th>1</th>\n",
              "      <td>510</td>\n",
              "      <td>0.0</td>\n",
              "      <td>2011-03-17</td>\n",
              "      <td>Cmsr</td>\n",
              "      <td>0</td>\n",
              "      <td>Gove</td>\n",
              "      <td>35.510074</td>\n",
              "      <td>-5.724555</td>\n",
              "      <td>Lukali</td>\n",
              "      <td>0</td>\n",
              "      <td>...</td>\n",
              "      <td>never pay</td>\n",
              "      <td>soft</td>\n",
              "      <td>good</td>\n",
              "      <td>enough</td>\n",
              "      <td>enough</td>\n",
              "      <td>shallow well</td>\n",
              "      <td>shallow well</td>\n",
              "      <td>groundwater</td>\n",
              "      <td>hand pump</td>\n",
              "      <td>hand pump</td>\n",
              "    </tr>\n",
              "    <tr>\n",
              "      <th>2</th>\n",
              "      <td>14146</td>\n",
              "      <td>0.0</td>\n",
              "      <td>2011-07-10</td>\n",
              "      <td>Kkkt</td>\n",
              "      <td>0</td>\n",
              "      <td>KKKT</td>\n",
              "      <td>32.499866</td>\n",
              "      <td>-9.081222</td>\n",
              "      <td>Mahakama</td>\n",
              "      <td>0</td>\n",
              "      <td>...</td>\n",
              "      <td>never pay</td>\n",
              "      <td>soft</td>\n",
              "      <td>good</td>\n",
              "      <td>enough</td>\n",
              "      <td>enough</td>\n",
              "      <td>shallow well</td>\n",
              "      <td>shallow well</td>\n",
              "      <td>groundwater</td>\n",
              "      <td>other</td>\n",
              "      <td>other</td>\n",
              "    </tr>\n",
              "    <tr>\n",
              "      <th>3</th>\n",
              "      <td>47410</td>\n",
              "      <td>0.0</td>\n",
              "      <td>2011-04-12</td>\n",
              "      <td>NaN</td>\n",
              "      <td>0</td>\n",
              "      <td>NaN</td>\n",
              "      <td>34.060484</td>\n",
              "      <td>-8.830208</td>\n",
              "      <td>Shule Ya Msingi Chosi A</td>\n",
              "      <td>0</td>\n",
              "      <td>...</td>\n",
              "      <td>monthly</td>\n",
              "      <td>soft</td>\n",
              "      <td>good</td>\n",
              "      <td>insufficient</td>\n",
              "      <td>insufficient</td>\n",
              "      <td>river</td>\n",
              "      <td>river/lake</td>\n",
              "      <td>surface</td>\n",
              "      <td>communal standpipe</td>\n",
              "      <td>communal standpipe</td>\n",
              "    </tr>\n",
              "    <tr>\n",
              "      <th>4</th>\n",
              "      <td>1288</td>\n",
              "      <td>300.0</td>\n",
              "      <td>2011-04-05</td>\n",
              "      <td>Ki</td>\n",
              "      <td>1023</td>\n",
              "      <td>Ki</td>\n",
              "      <td>37.032690</td>\n",
              "      <td>-6.040787</td>\n",
              "      <td>Kwa Mjowe</td>\n",
              "      <td>0</td>\n",
              "      <td>...</td>\n",
              "      <td>on failure</td>\n",
              "      <td>salty</td>\n",
              "      <td>salty</td>\n",
              "      <td>enough</td>\n",
              "      <td>enough</td>\n",
              "      <td>shallow well</td>\n",
              "      <td>shallow well</td>\n",
              "      <td>groundwater</td>\n",
              "      <td>other</td>\n",
              "      <td>other</td>\n",
              "    </tr>\n",
              "  </tbody>\n",
              "</table>\n",
              "<p>5 rows × 40 columns</p>\n",
              "</div>"
            ],
            "text/plain": [
              "      id  amount_tsh date_recorded funder  gps_height installer  longitude  \\\n",
              "0    454        50.0    2013-02-27   Dmdd        2092      DMDD  35.426020   \n",
              "1    510         0.0    2011-03-17   Cmsr           0      Gove  35.510074   \n",
              "2  14146         0.0    2011-07-10   Kkkt           0      KKKT  32.499866   \n",
              "3  47410         0.0    2011-04-12    NaN           0       NaN  34.060484   \n",
              "4   1288       300.0    2011-04-05     Ki        1023        Ki  37.032690   \n",
              "\n",
              "   latitude                 wpt_name  num_private  ... payment_type  \\\n",
              "0 -4.227446                    Narmo            0  ...   per bucket   \n",
              "1 -5.724555                   Lukali            0  ...    never pay   \n",
              "2 -9.081222                 Mahakama            0  ...    never pay   \n",
              "3 -8.830208  Shule Ya Msingi Chosi A            0  ...      monthly   \n",
              "4 -6.040787                Kwa Mjowe            0  ...   on failure   \n",
              "\n",
              "  water_quality quality_group      quantity  quantity_group        source  \\\n",
              "0          soft          good  insufficient    insufficient        spring   \n",
              "1          soft          good        enough          enough  shallow well   \n",
              "2          soft          good        enough          enough  shallow well   \n",
              "3          soft          good  insufficient    insufficient         river   \n",
              "4         salty         salty        enough          enough  shallow well   \n",
              "\n",
              "    source_type  source_class     waterpoint_type waterpoint_type_group  \n",
              "0        spring   groundwater  communal standpipe    communal standpipe  \n",
              "1  shallow well   groundwater           hand pump             hand pump  \n",
              "2  shallow well   groundwater               other                 other  \n",
              "3    river/lake       surface  communal standpipe    communal standpipe  \n",
              "4  shallow well   groundwater               other                 other  \n",
              "\n",
              "[5 rows x 40 columns]"
            ]
          },
          "execution_count": 12,
          "metadata": {},
          "output_type": "execute_result"
        }
      ],
      "source": [
        "train_features.head()"
      ]
    },
    {
      "cell_type": "code",
      "execution_count": 13,
      "metadata": {
        "ExecuteTime": {
          "end_time": "2023-07-06T14:33:56.924263Z",
          "start_time": "2023-07-06T14:33:56.921167Z"
        },
        "id": "JRjX4Hpt0Olv",
        "outputId": "83f119bc-382e-4e5d-8c3a-6f2788beedba"
      },
      "outputs": [
        {
          "data": {
            "text/html": [
              "<div>\n",
              "<style scoped>\n",
              "    .dataframe tbody tr th:only-of-type {\n",
              "        vertical-align: middle;\n",
              "    }\n",
              "\n",
              "    .dataframe tbody tr th {\n",
              "        vertical-align: top;\n",
              "    }\n",
              "\n",
              "    .dataframe thead th {\n",
              "        text-align: right;\n",
              "    }\n",
              "</style>\n",
              "<table border=\"1\" class=\"dataframe\">\n",
              "  <thead>\n",
              "    <tr style=\"text-align: right;\">\n",
              "      <th></th>\n",
              "      <th>id</th>\n",
              "      <th>status_group</th>\n",
              "    </tr>\n",
              "  </thead>\n",
              "  <tbody>\n",
              "    <tr>\n",
              "      <th>0</th>\n",
              "      <td>454</td>\n",
              "      <td>functional</td>\n",
              "    </tr>\n",
              "    <tr>\n",
              "      <th>1</th>\n",
              "      <td>510</td>\n",
              "      <td>functional</td>\n",
              "    </tr>\n",
              "    <tr>\n",
              "      <th>2</th>\n",
              "      <td>14146</td>\n",
              "      <td>non functional</td>\n",
              "    </tr>\n",
              "    <tr>\n",
              "      <th>3</th>\n",
              "      <td>47410</td>\n",
              "      <td>non functional</td>\n",
              "    </tr>\n",
              "    <tr>\n",
              "      <th>4</th>\n",
              "      <td>1288</td>\n",
              "      <td>non functional</td>\n",
              "    </tr>\n",
              "  </tbody>\n",
              "</table>\n",
              "</div>"
            ],
            "text/plain": [
              "      id    status_group\n",
              "0    454      functional\n",
              "1    510      functional\n",
              "2  14146  non functional\n",
              "3  47410  non functional\n",
              "4   1288  non functional"
            ]
          },
          "execution_count": 13,
          "metadata": {},
          "output_type": "execute_result"
        }
      ],
      "source": [
        "train_labels.head()"
      ]
    },
    {
      "cell_type": "code",
      "execution_count": 14,
      "metadata": {
        "ExecuteTime": {
          "end_time": "2023-07-06T14:33:57.778173Z",
          "start_time": "2023-07-06T14:33:57.764737Z"
        },
        "id": "_sUGw5FfzvZA",
        "outputId": "1ced0078-5ead-4ecd-ff99-2208048aa0e8"
      },
      "outputs": [
        {
          "data": {
            "text/html": [
              "<div>\n",
              "<style scoped>\n",
              "    .dataframe tbody tr th:only-of-type {\n",
              "        vertical-align: middle;\n",
              "    }\n",
              "\n",
              "    .dataframe tbody tr th {\n",
              "        vertical-align: top;\n",
              "    }\n",
              "\n",
              "    .dataframe thead th {\n",
              "        text-align: right;\n",
              "    }\n",
              "</style>\n",
              "<table border=\"1\" class=\"dataframe\">\n",
              "  <thead>\n",
              "    <tr style=\"text-align: right;\">\n",
              "      <th></th>\n",
              "      <th>id</th>\n",
              "      <th>amount_tsh</th>\n",
              "      <th>date_recorded</th>\n",
              "      <th>funder</th>\n",
              "      <th>gps_height</th>\n",
              "      <th>installer</th>\n",
              "      <th>longitude</th>\n",
              "      <th>latitude</th>\n",
              "      <th>wpt_name</th>\n",
              "      <th>num_private</th>\n",
              "      <th>...</th>\n",
              "      <th>payment_type</th>\n",
              "      <th>water_quality</th>\n",
              "      <th>quality_group</th>\n",
              "      <th>quantity</th>\n",
              "      <th>quantity_group</th>\n",
              "      <th>source</th>\n",
              "      <th>source_type</th>\n",
              "      <th>source_class</th>\n",
              "      <th>waterpoint_type</th>\n",
              "      <th>waterpoint_type_group</th>\n",
              "    </tr>\n",
              "  </thead>\n",
              "  <tbody>\n",
              "    <tr>\n",
              "      <th>0</th>\n",
              "      <td>37098</td>\n",
              "      <td>0.0</td>\n",
              "      <td>2012-10-09</td>\n",
              "      <td>Rural Water Supply And Sanitat</td>\n",
              "      <td>0</td>\n",
              "      <td>DWE</td>\n",
              "      <td>31.985658</td>\n",
              "      <td>-3.596360</td>\n",
              "      <td>Kasela</td>\n",
              "      <td>0</td>\n",
              "      <td>...</td>\n",
              "      <td>unknown</td>\n",
              "      <td>soft</td>\n",
              "      <td>good</td>\n",
              "      <td>dry</td>\n",
              "      <td>dry</td>\n",
              "      <td>shallow well</td>\n",
              "      <td>shallow well</td>\n",
              "      <td>groundwater</td>\n",
              "      <td>other</td>\n",
              "      <td>other</td>\n",
              "    </tr>\n",
              "    <tr>\n",
              "      <th>1</th>\n",
              "      <td>14530</td>\n",
              "      <td>0.0</td>\n",
              "      <td>2012-11-03</td>\n",
              "      <td>Halmashauri Ya Manispa Tabora</td>\n",
              "      <td>0</td>\n",
              "      <td>Halmashauri ya manispa tabora</td>\n",
              "      <td>32.832815</td>\n",
              "      <td>-4.944937</td>\n",
              "      <td>Mbugani</td>\n",
              "      <td>0</td>\n",
              "      <td>...</td>\n",
              "      <td>never pay</td>\n",
              "      <td>milky</td>\n",
              "      <td>milky</td>\n",
              "      <td>insufficient</td>\n",
              "      <td>insufficient</td>\n",
              "      <td>shallow well</td>\n",
              "      <td>shallow well</td>\n",
              "      <td>groundwater</td>\n",
              "      <td>hand pump</td>\n",
              "      <td>hand pump</td>\n",
              "    </tr>\n",
              "    <tr>\n",
              "      <th>2</th>\n",
              "      <td>62607</td>\n",
              "      <td>10.0</td>\n",
              "      <td>2013-02-25</td>\n",
              "      <td>Siter Fransis</td>\n",
              "      <td>1675</td>\n",
              "      <td>DWE</td>\n",
              "      <td>35.488289</td>\n",
              "      <td>-4.242048</td>\n",
              "      <td>Kwa Leosi</td>\n",
              "      <td>0</td>\n",
              "      <td>...</td>\n",
              "      <td>per bucket</td>\n",
              "      <td>soft</td>\n",
              "      <td>good</td>\n",
              "      <td>insufficient</td>\n",
              "      <td>insufficient</td>\n",
              "      <td>spring</td>\n",
              "      <td>spring</td>\n",
              "      <td>groundwater</td>\n",
              "      <td>communal standpipe</td>\n",
              "      <td>communal standpipe</td>\n",
              "    </tr>\n",
              "    <tr>\n",
              "      <th>3</th>\n",
              "      <td>46053</td>\n",
              "      <td>0.0</td>\n",
              "      <td>2011-08-13</td>\n",
              "      <td>Kkkt</td>\n",
              "      <td>0</td>\n",
              "      <td>KKKT</td>\n",
              "      <td>33.140828</td>\n",
              "      <td>-9.059386</td>\n",
              "      <td>Jangi</td>\n",
              "      <td>0</td>\n",
              "      <td>...</td>\n",
              "      <td>never pay</td>\n",
              "      <td>soft</td>\n",
              "      <td>good</td>\n",
              "      <td>seasonal</td>\n",
              "      <td>seasonal</td>\n",
              "      <td>shallow well</td>\n",
              "      <td>shallow well</td>\n",
              "      <td>groundwater</td>\n",
              "      <td>hand pump</td>\n",
              "      <td>hand pump</td>\n",
              "    </tr>\n",
              "    <tr>\n",
              "      <th>4</th>\n",
              "      <td>47083</td>\n",
              "      <td>50.0</td>\n",
              "      <td>2013-02-08</td>\n",
              "      <td>Wateraid</td>\n",
              "      <td>1109</td>\n",
              "      <td>SEMA</td>\n",
              "      <td>34.217077</td>\n",
              "      <td>-4.430529</td>\n",
              "      <td>Mkima</td>\n",
              "      <td>0</td>\n",
              "      <td>...</td>\n",
              "      <td>per bucket</td>\n",
              "      <td>soft</td>\n",
              "      <td>good</td>\n",
              "      <td>enough</td>\n",
              "      <td>enough</td>\n",
              "      <td>machine dbh</td>\n",
              "      <td>borehole</td>\n",
              "      <td>groundwater</td>\n",
              "      <td>communal standpipe multiple</td>\n",
              "      <td>communal standpipe</td>\n",
              "    </tr>\n",
              "  </tbody>\n",
              "</table>\n",
              "<p>5 rows × 40 columns</p>\n",
              "</div>"
            ],
            "text/plain": [
              "      id  amount_tsh date_recorded                          funder  \\\n",
              "0  37098         0.0    2012-10-09  Rural Water Supply And Sanitat   \n",
              "1  14530         0.0    2012-11-03   Halmashauri Ya Manispa Tabora   \n",
              "2  62607        10.0    2013-02-25                   Siter Fransis   \n",
              "3  46053         0.0    2011-08-13                            Kkkt   \n",
              "4  47083        50.0    2013-02-08                        Wateraid   \n",
              "\n",
              "   gps_height                      installer  longitude  latitude   wpt_name  \\\n",
              "0           0                            DWE  31.985658 -3.596360     Kasela   \n",
              "1           0  Halmashauri ya manispa tabora  32.832815 -4.944937    Mbugani   \n",
              "2        1675                            DWE  35.488289 -4.242048  Kwa Leosi   \n",
              "3           0                           KKKT  33.140828 -9.059386      Jangi   \n",
              "4        1109                           SEMA  34.217077 -4.430529      Mkima   \n",
              "\n",
              "   num_private  ... payment_type water_quality quality_group      quantity  \\\n",
              "0            0  ...      unknown          soft          good           dry   \n",
              "1            0  ...    never pay         milky         milky  insufficient   \n",
              "2            0  ...   per bucket          soft          good  insufficient   \n",
              "3            0  ...    never pay          soft          good      seasonal   \n",
              "4            0  ...   per bucket          soft          good        enough   \n",
              "\n",
              "   quantity_group        source   source_type  source_class  \\\n",
              "0             dry  shallow well  shallow well   groundwater   \n",
              "1    insufficient  shallow well  shallow well   groundwater   \n",
              "2    insufficient        spring        spring   groundwater   \n",
              "3        seasonal  shallow well  shallow well   groundwater   \n",
              "4          enough   machine dbh      borehole   groundwater   \n",
              "\n",
              "               waterpoint_type waterpoint_type_group  \n",
              "0                        other                 other  \n",
              "1                    hand pump             hand pump  \n",
              "2           communal standpipe    communal standpipe  \n",
              "3                    hand pump             hand pump  \n",
              "4  communal standpipe multiple    communal standpipe  \n",
              "\n",
              "[5 rows x 40 columns]"
            ]
          },
          "execution_count": 14,
          "metadata": {},
          "output_type": "execute_result"
        }
      ],
      "source": [
        "test_features.head()"
      ]
    },
    {
      "cell_type": "code",
      "execution_count": 15,
      "metadata": {
        "ExecuteTime": {
          "end_time": "2023-07-06T14:35:22.822978Z",
          "start_time": "2023-07-06T14:35:22.748745Z"
        },
        "id": "DN79RES5vzqr",
        "outputId": "765f811b-8f94-4d38-fd69-e0052e5dbb54"
      },
      "outputs": [
        {
          "data": {
            "text/html": [
              "<div>\n",
              "<style scoped>\n",
              "    .dataframe tbody tr th:only-of-type {\n",
              "        vertical-align: middle;\n",
              "    }\n",
              "\n",
              "    .dataframe tbody tr th {\n",
              "        vertical-align: top;\n",
              "    }\n",
              "\n",
              "    .dataframe thead th {\n",
              "        text-align: right;\n",
              "    }\n",
              "</style>\n",
              "<table border=\"1\" class=\"dataframe\">\n",
              "  <thead>\n",
              "    <tr style=\"text-align: right;\">\n",
              "      <th></th>\n",
              "      <th>id</th>\n",
              "      <th>amount_tsh</th>\n",
              "      <th>date_recorded</th>\n",
              "      <th>funder</th>\n",
              "      <th>gps_height</th>\n",
              "      <th>installer</th>\n",
              "      <th>longitude</th>\n",
              "      <th>latitude</th>\n",
              "      <th>wpt_name</th>\n",
              "      <th>num_private</th>\n",
              "      <th>...</th>\n",
              "      <th>water_quality</th>\n",
              "      <th>quality_group</th>\n",
              "      <th>quantity</th>\n",
              "      <th>quantity_group</th>\n",
              "      <th>source</th>\n",
              "      <th>source_type</th>\n",
              "      <th>source_class</th>\n",
              "      <th>waterpoint_type</th>\n",
              "      <th>waterpoint_type_group</th>\n",
              "      <th>status_group</th>\n",
              "    </tr>\n",
              "  </thead>\n",
              "  <tbody>\n",
              "    <tr>\n",
              "      <th>0</th>\n",
              "      <td>454</td>\n",
              "      <td>50.0</td>\n",
              "      <td>2013-02-27</td>\n",
              "      <td>Dmdd</td>\n",
              "      <td>2092</td>\n",
              "      <td>DMDD</td>\n",
              "      <td>35.426020</td>\n",
              "      <td>-4.227446</td>\n",
              "      <td>Narmo</td>\n",
              "      <td>0</td>\n",
              "      <td>...</td>\n",
              "      <td>soft</td>\n",
              "      <td>good</td>\n",
              "      <td>insufficient</td>\n",
              "      <td>insufficient</td>\n",
              "      <td>spring</td>\n",
              "      <td>spring</td>\n",
              "      <td>groundwater</td>\n",
              "      <td>communal standpipe</td>\n",
              "      <td>communal standpipe</td>\n",
              "      <td>functional</td>\n",
              "    </tr>\n",
              "    <tr>\n",
              "      <th>1</th>\n",
              "      <td>510</td>\n",
              "      <td>0.0</td>\n",
              "      <td>2011-03-17</td>\n",
              "      <td>Cmsr</td>\n",
              "      <td>0</td>\n",
              "      <td>Gove</td>\n",
              "      <td>35.510074</td>\n",
              "      <td>-5.724555</td>\n",
              "      <td>Lukali</td>\n",
              "      <td>0</td>\n",
              "      <td>...</td>\n",
              "      <td>soft</td>\n",
              "      <td>good</td>\n",
              "      <td>enough</td>\n",
              "      <td>enough</td>\n",
              "      <td>shallow well</td>\n",
              "      <td>shallow well</td>\n",
              "      <td>groundwater</td>\n",
              "      <td>hand pump</td>\n",
              "      <td>hand pump</td>\n",
              "      <td>functional</td>\n",
              "    </tr>\n",
              "    <tr>\n",
              "      <th>2</th>\n",
              "      <td>14146</td>\n",
              "      <td>0.0</td>\n",
              "      <td>2011-07-10</td>\n",
              "      <td>Kkkt</td>\n",
              "      <td>0</td>\n",
              "      <td>KKKT</td>\n",
              "      <td>32.499866</td>\n",
              "      <td>-9.081222</td>\n",
              "      <td>Mahakama</td>\n",
              "      <td>0</td>\n",
              "      <td>...</td>\n",
              "      <td>soft</td>\n",
              "      <td>good</td>\n",
              "      <td>enough</td>\n",
              "      <td>enough</td>\n",
              "      <td>shallow well</td>\n",
              "      <td>shallow well</td>\n",
              "      <td>groundwater</td>\n",
              "      <td>other</td>\n",
              "      <td>other</td>\n",
              "      <td>non functional</td>\n",
              "    </tr>\n",
              "    <tr>\n",
              "      <th>3</th>\n",
              "      <td>47410</td>\n",
              "      <td>0.0</td>\n",
              "      <td>2011-04-12</td>\n",
              "      <td>NaN</td>\n",
              "      <td>0</td>\n",
              "      <td>NaN</td>\n",
              "      <td>34.060484</td>\n",
              "      <td>-8.830208</td>\n",
              "      <td>Shule Ya Msingi Chosi A</td>\n",
              "      <td>0</td>\n",
              "      <td>...</td>\n",
              "      <td>soft</td>\n",
              "      <td>good</td>\n",
              "      <td>insufficient</td>\n",
              "      <td>insufficient</td>\n",
              "      <td>river</td>\n",
              "      <td>river/lake</td>\n",
              "      <td>surface</td>\n",
              "      <td>communal standpipe</td>\n",
              "      <td>communal standpipe</td>\n",
              "      <td>non functional</td>\n",
              "    </tr>\n",
              "    <tr>\n",
              "      <th>4</th>\n",
              "      <td>1288</td>\n",
              "      <td>300.0</td>\n",
              "      <td>2011-04-05</td>\n",
              "      <td>Ki</td>\n",
              "      <td>1023</td>\n",
              "      <td>Ki</td>\n",
              "      <td>37.032690</td>\n",
              "      <td>-6.040787</td>\n",
              "      <td>Kwa Mjowe</td>\n",
              "      <td>0</td>\n",
              "      <td>...</td>\n",
              "      <td>salty</td>\n",
              "      <td>salty</td>\n",
              "      <td>enough</td>\n",
              "      <td>enough</td>\n",
              "      <td>shallow well</td>\n",
              "      <td>shallow well</td>\n",
              "      <td>groundwater</td>\n",
              "      <td>other</td>\n",
              "      <td>other</td>\n",
              "      <td>non functional</td>\n",
              "    </tr>\n",
              "    <tr>\n",
              "      <th>...</th>\n",
              "      <td>...</td>\n",
              "      <td>...</td>\n",
              "      <td>...</td>\n",
              "      <td>...</td>\n",
              "      <td>...</td>\n",
              "      <td>...</td>\n",
              "      <td>...</td>\n",
              "      <td>...</td>\n",
              "      <td>...</td>\n",
              "      <td>...</td>\n",
              "      <td>...</td>\n",
              "      <td>...</td>\n",
              "      <td>...</td>\n",
              "      <td>...</td>\n",
              "      <td>...</td>\n",
              "      <td>...</td>\n",
              "      <td>...</td>\n",
              "      <td>...</td>\n",
              "      <td>...</td>\n",
              "      <td>...</td>\n",
              "      <td>...</td>\n",
              "    </tr>\n",
              "    <tr>\n",
              "      <th>47515</th>\n",
              "      <td>68525</td>\n",
              "      <td>1000.0</td>\n",
              "      <td>2011-03-20</td>\n",
              "      <td>Dhv</td>\n",
              "      <td>327</td>\n",
              "      <td>DWE</td>\n",
              "      <td>36.367112</td>\n",
              "      <td>-8.774761</td>\n",
              "      <td>Kwa Mbayambaya</td>\n",
              "      <td>0</td>\n",
              "      <td>...</td>\n",
              "      <td>soft</td>\n",
              "      <td>good</td>\n",
              "      <td>enough</td>\n",
              "      <td>enough</td>\n",
              "      <td>river</td>\n",
              "      <td>river/lake</td>\n",
              "      <td>surface</td>\n",
              "      <td>communal standpipe</td>\n",
              "      <td>communal standpipe</td>\n",
              "      <td>functional</td>\n",
              "    </tr>\n",
              "    <tr>\n",
              "      <th>47516</th>\n",
              "      <td>11980</td>\n",
              "      <td>1000.0</td>\n",
              "      <td>2011-03-10</td>\n",
              "      <td>Danida</td>\n",
              "      <td>1743</td>\n",
              "      <td>DANID</td>\n",
              "      <td>34.531524</td>\n",
              "      <td>-9.769604</td>\n",
              "      <td>none</td>\n",
              "      <td>0</td>\n",
              "      <td>...</td>\n",
              "      <td>soft</td>\n",
              "      <td>good</td>\n",
              "      <td>seasonal</td>\n",
              "      <td>seasonal</td>\n",
              "      <td>spring</td>\n",
              "      <td>spring</td>\n",
              "      <td>groundwater</td>\n",
              "      <td>communal standpipe</td>\n",
              "      <td>communal standpipe</td>\n",
              "      <td>functional</td>\n",
              "    </tr>\n",
              "    <tr>\n",
              "      <th>47517</th>\n",
              "      <td>35778</td>\n",
              "      <td>0.0</td>\n",
              "      <td>2011-03-13</td>\n",
              "      <td>Omar Ally</td>\n",
              "      <td>-13</td>\n",
              "      <td>Omar Ally</td>\n",
              "      <td>38.974416</td>\n",
              "      <td>-5.420823</td>\n",
              "      <td>Kwa Omar Ally</td>\n",
              "      <td>0</td>\n",
              "      <td>...</td>\n",
              "      <td>soft</td>\n",
              "      <td>good</td>\n",
              "      <td>insufficient</td>\n",
              "      <td>insufficient</td>\n",
              "      <td>shallow well</td>\n",
              "      <td>shallow well</td>\n",
              "      <td>groundwater</td>\n",
              "      <td>other</td>\n",
              "      <td>other</td>\n",
              "      <td>non functional</td>\n",
              "    </tr>\n",
              "    <tr>\n",
              "      <th>47518</th>\n",
              "      <td>49444</td>\n",
              "      <td>0.0</td>\n",
              "      <td>2012-10-31</td>\n",
              "      <td>Rwssp</td>\n",
              "      <td>0</td>\n",
              "      <td>WEDECO</td>\n",
              "      <td>34.316586</td>\n",
              "      <td>-3.107161</td>\n",
              "      <td>Muungano</td>\n",
              "      <td>0</td>\n",
              "      <td>...</td>\n",
              "      <td>soft</td>\n",
              "      <td>good</td>\n",
              "      <td>enough</td>\n",
              "      <td>enough</td>\n",
              "      <td>shallow well</td>\n",
              "      <td>shallow well</td>\n",
              "      <td>groundwater</td>\n",
              "      <td>hand pump</td>\n",
              "      <td>hand pump</td>\n",
              "      <td>functional</td>\n",
              "    </tr>\n",
              "    <tr>\n",
              "      <th>47519</th>\n",
              "      <td>23812</td>\n",
              "      <td>0.0</td>\n",
              "      <td>2013-02-24</td>\n",
              "      <td>Government Of Tanzania</td>\n",
              "      <td>1290</td>\n",
              "      <td>District council</td>\n",
              "      <td>37.626401</td>\n",
              "      <td>-3.211457</td>\n",
              "      <td>Kwa Nicholaus Kimario</td>\n",
              "      <td>0</td>\n",
              "      <td>...</td>\n",
              "      <td>soft</td>\n",
              "      <td>good</td>\n",
              "      <td>enough</td>\n",
              "      <td>enough</td>\n",
              "      <td>spring</td>\n",
              "      <td>spring</td>\n",
              "      <td>groundwater</td>\n",
              "      <td>communal standpipe multiple</td>\n",
              "      <td>communal standpipe</td>\n",
              "      <td>non functional</td>\n",
              "    </tr>\n",
              "  </tbody>\n",
              "</table>\n",
              "<p>47520 rows × 41 columns</p>\n",
              "</div>"
            ],
            "text/plain": [
              "          id  amount_tsh date_recorded                  funder  gps_height  \\\n",
              "0        454        50.0    2013-02-27                    Dmdd        2092   \n",
              "1        510         0.0    2011-03-17                    Cmsr           0   \n",
              "2      14146         0.0    2011-07-10                    Kkkt           0   \n",
              "3      47410         0.0    2011-04-12                     NaN           0   \n",
              "4       1288       300.0    2011-04-05                      Ki        1023   \n",
              "...      ...         ...           ...                     ...         ...   \n",
              "47515  68525      1000.0    2011-03-20                     Dhv         327   \n",
              "47516  11980      1000.0    2011-03-10                  Danida        1743   \n",
              "47517  35778         0.0    2011-03-13               Omar Ally         -13   \n",
              "47518  49444         0.0    2012-10-31                   Rwssp           0   \n",
              "47519  23812         0.0    2013-02-24  Government Of Tanzania        1290   \n",
              "\n",
              "              installer  longitude  latitude                 wpt_name  \\\n",
              "0                  DMDD  35.426020 -4.227446                    Narmo   \n",
              "1                  Gove  35.510074 -5.724555                   Lukali   \n",
              "2                  KKKT  32.499866 -9.081222                 Mahakama   \n",
              "3                   NaN  34.060484 -8.830208  Shule Ya Msingi Chosi A   \n",
              "4                    Ki  37.032690 -6.040787                Kwa Mjowe   \n",
              "...                 ...        ...       ...                      ...   \n",
              "47515               DWE  36.367112 -8.774761           Kwa Mbayambaya   \n",
              "47516             DANID  34.531524 -9.769604                     none   \n",
              "47517         Omar Ally  38.974416 -5.420823            Kwa Omar Ally   \n",
              "47518            WEDECO  34.316586 -3.107161                 Muungano   \n",
              "47519  District council  37.626401 -3.211457    Kwa Nicholaus Kimario   \n",
              "\n",
              "       num_private  ... water_quality quality_group      quantity  \\\n",
              "0                0  ...          soft          good  insufficient   \n",
              "1                0  ...          soft          good        enough   \n",
              "2                0  ...          soft          good        enough   \n",
              "3                0  ...          soft          good  insufficient   \n",
              "4                0  ...         salty         salty        enough   \n",
              "...            ...  ...           ...           ...           ...   \n",
              "47515            0  ...          soft          good        enough   \n",
              "47516            0  ...          soft          good      seasonal   \n",
              "47517            0  ...          soft          good  insufficient   \n",
              "47518            0  ...          soft          good        enough   \n",
              "47519            0  ...          soft          good        enough   \n",
              "\n",
              "       quantity_group        source   source_type source_class  \\\n",
              "0        insufficient        spring        spring  groundwater   \n",
              "1              enough  shallow well  shallow well  groundwater   \n",
              "2              enough  shallow well  shallow well  groundwater   \n",
              "3        insufficient         river    river/lake      surface   \n",
              "4              enough  shallow well  shallow well  groundwater   \n",
              "...               ...           ...           ...          ...   \n",
              "47515          enough         river    river/lake      surface   \n",
              "47516        seasonal        spring        spring  groundwater   \n",
              "47517    insufficient  shallow well  shallow well  groundwater   \n",
              "47518          enough  shallow well  shallow well  groundwater   \n",
              "47519          enough        spring        spring  groundwater   \n",
              "\n",
              "                   waterpoint_type waterpoint_type_group    status_group  \n",
              "0               communal standpipe    communal standpipe      functional  \n",
              "1                        hand pump             hand pump      functional  \n",
              "2                            other                 other  non functional  \n",
              "3               communal standpipe    communal standpipe  non functional  \n",
              "4                            other                 other  non functional  \n",
              "...                            ...                   ...             ...  \n",
              "47515           communal standpipe    communal standpipe      functional  \n",
              "47516           communal standpipe    communal standpipe      functional  \n",
              "47517                        other                 other  non functional  \n",
              "47518                    hand pump             hand pump      functional  \n",
              "47519  communal standpipe multiple    communal standpipe  non functional  \n",
              "\n",
              "[47520 rows x 41 columns]"
            ]
          },
          "execution_count": 15,
          "metadata": {},
          "output_type": "execute_result"
        }
      ],
      "source": [
        "train = pd.merge(train_features, train_labels)\n",
        "train"
      ]
    },
    {
      "cell_type": "markdown",
      "metadata": {
        "id": "xpxcaA6yUwzP"
      },
      "source": [
        "### EDA"
      ]
    },
    {
      "cell_type": "code",
      "execution_count": 16,
      "metadata": {
        "id": "kD3Mt3Ek02zZ"
      },
      "outputs": [
        {
          "name": "stdout",
          "output_type": "stream",
          "text": [
            "<class 'pandas.core.frame.DataFrame'>\n",
            "RangeIndex: 47520 entries, 0 to 47519\n",
            "Data columns (total 41 columns):\n",
            " #   Column                 Non-Null Count  Dtype  \n",
            "---  ------                 --------------  -----  \n",
            " 0   id                     47520 non-null  int64  \n",
            " 1   amount_tsh             47520 non-null  float64\n",
            " 2   date_recorded          47520 non-null  object \n",
            " 3   funder                 44643 non-null  object \n",
            " 4   gps_height             47520 non-null  int64  \n",
            " 5   installer              44631 non-null  object \n",
            " 6   longitude              47520 non-null  float64\n",
            " 7   latitude               47520 non-null  float64\n",
            " 8   wpt_name               47519 non-null  object \n",
            " 9   num_private            47520 non-null  int64  \n",
            " 10  basin                  47520 non-null  object \n",
            " 11  subvillage             47224 non-null  object \n",
            " 12  region                 47520 non-null  object \n",
            " 13  region_code            47520 non-null  int64  \n",
            " 14  district_code          47520 non-null  int64  \n",
            " 15  lga                    47520 non-null  object \n",
            " 16  ward                   47520 non-null  object \n",
            " 17  population             47520 non-null  int64  \n",
            " 18  public_meeting         44831 non-null  object \n",
            " 19  recorded_by            47520 non-null  object \n",
            " 20  scheme_management      44417 non-null  object \n",
            " 21  scheme_name            24484 non-null  object \n",
            " 22  permit                 45081 non-null  object \n",
            " 23  construction_year      47520 non-null  int64  \n",
            " 24  extraction_type        47520 non-null  object \n",
            " 25  extraction_type_group  47520 non-null  object \n",
            " 26  extraction_type_class  47520 non-null  object \n",
            " 27  management             47520 non-null  object \n",
            " 28  management_group       47520 non-null  object \n",
            " 29  payment                47520 non-null  object \n",
            " 30  payment_type           47520 non-null  object \n",
            " 31  water_quality          47520 non-null  object \n",
            " 32  quality_group          47520 non-null  object \n",
            " 33  quantity               47520 non-null  object \n",
            " 34  quantity_group         47520 non-null  object \n",
            " 35  source                 47520 non-null  object \n",
            " 36  source_type            47520 non-null  object \n",
            " 37  source_class           47520 non-null  object \n",
            " 38  waterpoint_type        47520 non-null  object \n",
            " 39  waterpoint_type_group  47520 non-null  object \n",
            " 40  status_group           47520 non-null  object \n",
            "dtypes: float64(3), int64(7), object(31)\n",
            "memory usage: 14.9+ MB\n"
          ]
        }
      ],
      "source": [
        "train.info()"
      ]
    },
    {
      "cell_type": "code",
      "execution_count": 20,
      "metadata": {
        "id": "Sx65vlTX62ji"
      },
      "outputs": [
        {
          "data": {
            "application/vnd.jupyter.widget-view+json": {
              "model_id": "410838a4031a4759aa64eb16d17800db",
              "version_major": 2,
              "version_minor": 0
            },
            "text/plain": [
              "Summarize dataset:   0%|          | 0/5 [00:00<?, ?it/s]"
            ]
          },
          "metadata": {},
          "output_type": "display_data"
        },
        {
          "data": {
            "application/vnd.jupyter.widget-view+json": {
              "model_id": "8c54bb4c51d14bacb5c21eeca724cb93",
              "version_major": 2,
              "version_minor": 0
            },
            "text/plain": [
              "Generate report structure:   0%|          | 0/1 [00:00<?, ?it/s]"
            ]
          },
          "metadata": {},
          "output_type": "display_data"
        },
        {
          "data": {
            "application/vnd.jupyter.widget-view+json": {
              "model_id": "eeb9a0af19bd497e88592e70a9adaa90",
              "version_major": 2,
              "version_minor": 0
            },
            "text/plain": [
              "Render HTML:   0%|          | 0/1 [00:00<?, ?it/s]"
            ]
          },
          "metadata": {},
          "output_type": "display_data"
        },
        {
          "data": {
            "application/vnd.jupyter.widget-view+json": {
              "model_id": "8b4b366fab9f4e56bf5f7c3540ec3435",
              "version_major": 2,
              "version_minor": 0
            },
            "text/plain": [
              "Export report to file:   0%|          | 0/1 [00:00<?, ?it/s]"
            ]
          },
          "metadata": {},
          "output_type": "display_data"
        }
      ],
      "source": [
        "from ydata_profiling import ProfileReport\n",
        "\n",
        "report = ProfileReport(train, minimal=True)\n",
        "\n",
        "report.to_file(\"profile_report.html\")\n"
      ]
    },
    {
      "cell_type": "code",
      "execution_count": 21,
      "metadata": {
        "id": "kaSsPQqqbFkY"
      },
      "outputs": [],
      "source": [
        "train = pd.merge(pd.read_csv('C:/Users/ISHMO_CT/Downloads/bloomtech-water-pump-challenge/train_features.csv',na_values=[0, -2.000000e-08]),\n",
        "                 pd.read_csv('C:/Users/ISHMO_CT/Downloads/bloomtech-water-pump-challenge/train_labels.csv'))\n",
        "X_test = pd.read_csv('C:/Users/ISHMO_CT/Downloads/bloomtech-water-pump-challenge/train_features.csv', na_values=[0, -2.000000e-08])\n",
        "\n",
        "def wrangle(df):\n",
        "\n",
        "  # Set the index to 'id'\n",
        "  df.set_index('id', inplace=True)\n",
        "\n",
        "  # Drop Constant Column\n",
        "  df.drop(columns='recorded_by', inplace=True)\n",
        "\n",
        "  # Drop Duplicate Column\n",
        "  #df.drop(columns=, inplace=True)\n",
        "\n",
        "  # Drop High Cardinality Columns\n",
        "  threshold = 100\n",
        "  cols_to_drop = [col for col in df.select_dtypes('object') if df[col].nunique() > threshold]\n",
        "  df.drop(columns=cols_to_drop, inplace=True)\n",
        "\n",
        "  # Drop columns with high proportion of zeros\n",
        "  df.drop(columns='num_private', inplace=True)\n",
        "\n",
        "  return df\n",
        "\n",
        "train = wrangle(train)\n",
        "X_test = wrangle(test_features)\n"
      ]
    },
    {
      "cell_type": "code",
      "execution_count": 22,
      "metadata": {
        "id": "rExNTtaSwCri"
      },
      "outputs": [
        {
          "data": {
            "image/png": "[encoded data removed]",
            "text/plain": [
              "<Figure size 640x480 with 1 Axes>"
            ]
          },
          "metadata": {},
          "output_type": "display_data"
        }
      ],
      "source": [
        "# null island!\n",
        "# bunch of data coordinates at 0,0\n",
        "%matplotlib inline\n",
        "import matplotlib.pyplot as plt\n",
        "plt.scatter(train['longitude'], train['latitude'])\n",
        "plt.show()"
      ]
    },
    {
      "cell_type": "code",
      "execution_count": 23,
      "metadata": {
        "id": "XGJexjFXwCo_"
      },
      "outputs": [
        {
          "data": {
            "text/html": [
              "<div>\n",
              "<style scoped>\n",
              "    .dataframe tbody tr th:only-of-type {\n",
              "        vertical-align: middle;\n",
              "    }\n",
              "\n",
              "    .dataframe tbody tr th {\n",
              "        vertical-align: top;\n",
              "    }\n",
              "\n",
              "    .dataframe thead th {\n",
              "        text-align: right;\n",
              "    }\n",
              "</style>\n",
              "<table border=\"1\" class=\"dataframe\">\n",
              "  <thead>\n",
              "    <tr style=\"text-align: right;\">\n",
              "      <th></th>\n",
              "      <th>amount_tsh</th>\n",
              "      <th>gps_height</th>\n",
              "      <th>longitude</th>\n",
              "      <th>latitude</th>\n",
              "      <th>basin</th>\n",
              "      <th>region</th>\n",
              "      <th>region_code</th>\n",
              "      <th>district_code</th>\n",
              "      <th>population</th>\n",
              "      <th>public_meeting</th>\n",
              "      <th>...</th>\n",
              "      <th>water_quality</th>\n",
              "      <th>quality_group</th>\n",
              "      <th>quantity</th>\n",
              "      <th>quantity_group</th>\n",
              "      <th>source</th>\n",
              "      <th>source_type</th>\n",
              "      <th>source_class</th>\n",
              "      <th>waterpoint_type</th>\n",
              "      <th>waterpoint_type_group</th>\n",
              "      <th>status_group</th>\n",
              "    </tr>\n",
              "    <tr>\n",
              "      <th>id</th>\n",
              "      <th></th>\n",
              "      <th></th>\n",
              "      <th></th>\n",
              "      <th></th>\n",
              "      <th></th>\n",
              "      <th></th>\n",
              "      <th></th>\n",
              "      <th></th>\n",
              "      <th></th>\n",
              "      <th></th>\n",
              "      <th></th>\n",
              "      <th></th>\n",
              "      <th></th>\n",
              "      <th></th>\n",
              "      <th></th>\n",
              "      <th></th>\n",
              "      <th></th>\n",
              "      <th></th>\n",
              "      <th></th>\n",
              "      <th></th>\n",
              "      <th></th>\n",
              "    </tr>\n",
              "  </thead>\n",
              "  <tbody>\n",
              "  </tbody>\n",
              "</table>\n",
              "<p>0 rows × 30 columns</p>\n",
              "</div>"
            ],
            "text/plain": [
              "Empty DataFrame\n",
              "Columns: [amount_tsh, gps_height, longitude, latitude, basin, region, region_code, district_code, population, public_meeting, scheme_management, permit, construction_year, extraction_type, extraction_type_group, extraction_type_class, management, management_group, payment, payment_type, water_quality, quality_group, quantity, quantity_group, source, source_type, source_class, waterpoint_type, waterpoint_type_group, status_group]\n",
              "Index: []\n",
              "\n",
              "[0 rows x 30 columns]"
            ]
          },
          "execution_count": 23,
          "metadata": {},
          "output_type": "execute_result"
        }
      ],
      "source": [
        "train[train['latitude'] == 0]"
      ]
    },
    {
      "cell_type": "code",
      "execution_count": 24,
      "metadata": {
        "id": "OQsjJnHNIFwC"
      },
      "outputs": [
        {
          "data": {
            "text/html": [
              "<div>\n",
              "<style scoped>\n",
              "    .dataframe tbody tr th:only-of-type {\n",
              "        vertical-align: middle;\n",
              "    }\n",
              "\n",
              "    .dataframe tbody tr th {\n",
              "        vertical-align: top;\n",
              "    }\n",
              "\n",
              "    .dataframe thead th {\n",
              "        text-align: right;\n",
              "    }\n",
              "</style>\n",
              "<table border=\"1\" class=\"dataframe\">\n",
              "  <thead>\n",
              "    <tr style=\"text-align: right;\">\n",
              "      <th></th>\n",
              "      <th>amount_tsh</th>\n",
              "      <th>gps_height</th>\n",
              "      <th>longitude</th>\n",
              "      <th>latitude</th>\n",
              "      <th>basin</th>\n",
              "      <th>region</th>\n",
              "      <th>region_code</th>\n",
              "      <th>district_code</th>\n",
              "      <th>population</th>\n",
              "      <th>public_meeting</th>\n",
              "      <th>...</th>\n",
              "      <th>water_quality</th>\n",
              "      <th>quality_group</th>\n",
              "      <th>quantity</th>\n",
              "      <th>quantity_group</th>\n",
              "      <th>source</th>\n",
              "      <th>source_type</th>\n",
              "      <th>source_class</th>\n",
              "      <th>waterpoint_type</th>\n",
              "      <th>waterpoint_type_group</th>\n",
              "      <th>status_group</th>\n",
              "    </tr>\n",
              "    <tr>\n",
              "      <th>id</th>\n",
              "      <th></th>\n",
              "      <th></th>\n",
              "      <th></th>\n",
              "      <th></th>\n",
              "      <th></th>\n",
              "      <th></th>\n",
              "      <th></th>\n",
              "      <th></th>\n",
              "      <th></th>\n",
              "      <th></th>\n",
              "      <th></th>\n",
              "      <th></th>\n",
              "      <th></th>\n",
              "      <th></th>\n",
              "      <th></th>\n",
              "      <th></th>\n",
              "      <th></th>\n",
              "      <th></th>\n",
              "      <th></th>\n",
              "      <th></th>\n",
              "      <th></th>\n",
              "    </tr>\n",
              "  </thead>\n",
              "  <tbody>\n",
              "  </tbody>\n",
              "</table>\n",
              "<p>0 rows × 30 columns</p>\n",
              "</div>"
            ],
            "text/plain": [
              "Empty DataFrame\n",
              "Columns: [amount_tsh, gps_height, longitude, latitude, basin, region, region_code, district_code, population, public_meeting, scheme_management, permit, construction_year, extraction_type, extraction_type_group, extraction_type_class, management, management_group, payment, payment_type, water_quality, quality_group, quantity, quantity_group, source, source_type, source_class, waterpoint_type, waterpoint_type_group, status_group]\n",
              "Index: []\n",
              "\n",
              "[0 rows x 30 columns]"
            ]
          },
          "execution_count": 24,
          "metadata": {},
          "output_type": "execute_result"
        }
      ],
      "source": [
        "train[train['longitude'] == 0]"
      ]
    },
    {
      "cell_type": "code",
      "execution_count": 25,
      "metadata": {},
      "outputs": [
        {
          "data": {
            "text/plain": [
              "amount_tsh               False\n",
              "gps_height               False\n",
              "longitude                False\n",
              "latitude                 False\n",
              "basin                    False\n",
              "region                   False\n",
              "region_code              False\n",
              "district_code            False\n",
              "population               False\n",
              "public_meeting           False\n",
              "scheme_management        False\n",
              "permit                   False\n",
              "construction_year        False\n",
              "extraction_type          False\n",
              "extraction_type_group     True\n",
              "extraction_type_class    False\n",
              "management               False\n",
              "management_group         False\n",
              "payment                  False\n",
              "payment_type             False\n",
              "water_quality            False\n",
              "quality_group            False\n",
              "quantity                 False\n",
              "quantity_group            True\n",
              "source                   False\n",
              "source_type              False\n",
              "source_class             False\n",
              "waterpoint_type          False\n",
              "waterpoint_type_group     True\n",
              "status_group             False\n",
              "dtype: bool"
            ]
          },
          "execution_count": 25,
          "metadata": {},
          "output_type": "execute_result"
        }
      ],
      "source": [
        "train.head().T.duplicated()"
      ]
    },
    {
      "cell_type": "markdown",
      "metadata": {
        "id": "jetWccxMqmzY"
      },
      "source": [
        "# II. Split Data"
      ]
    },
    {
      "cell_type": "markdown",
      "metadata": {
        "id": "y-MPA0qlr-mK"
      },
      "source": [
        "## Split TV from FM"
      ]
    },
    {
      "cell_type": "code",
      "execution_count": 26,
      "metadata": {
        "id": "JsquPmP26y7h"
      },
      "outputs": [],
      "source": [
        "target ='status_group'\n",
        "y = train[target]\n",
        "X = train.drop(columns=target)"
      ]
    },
    {
      "cell_type": "markdown",
      "metadata": {
        "id": "n8jSWomGsLsw"
      },
      "source": [
        "## Training-Validation Split"
      ]
    },
    {
      "cell_type": "code",
      "execution_count": 27,
      "metadata": {
        "id": "bXikcdMD2vON"
      },
      "outputs": [],
      "source": [
        "from sklearn.model_selection import train_test_split\n",
        "X_train, X_val, y_train, y_val = train_test_split(X, y, test_size = 0.2, random_state = 42)"
      ]
    },
    {
      "cell_type": "markdown",
      "metadata": {
        "id": "WX9uvMMgs6J_"
      },
      "source": [
        "# III. Establish Baseline\n",
        "\n",
        "- Is this a *regression* or a *classification* problem?"
      ]
    },
    {
      "cell_type": "code",
      "execution_count": 31,
      "metadata": {
        "id": "g9i5ZQxcwJ3u"
      },
      "outputs": [
        {
          "data": {
            "text/plain": [
              "0.5425489938182296"
            ]
          },
          "execution_count": 31,
          "metadata": {},
          "output_type": "execute_result"
        }
      ],
      "source": [
        "y_train.value_counts(normalize = True).max()"
      ]
    },
    {
      "cell_type": "code",
      "execution_count": 32,
      "metadata": {
        "id": "oTW9yRjI2wzD"
      },
      "outputs": [
        {
          "name": "stdout",
          "output_type": "stream",
          "text": [
            "baseline accuracy: 0.5425489938182296\n"
          ]
        }
      ],
      "source": [
        "print('baseline accuracy:',y_train.value_counts(normalize = True).max())"
      ]
    },
    {
      "cell_type": "markdown",
      "metadata": {
        "id": "MA19NsrFtgTT"
      },
      "source": [
        "# IV. Build Model(s)"
      ]
    },
    {
      "cell_type": "markdown",
      "metadata": {
        "id": "Q2_AEFsZKGCK"
      },
      "source": [
        "**First Model:** Logistic Regression"
      ]
    },
    {
      "cell_type": "code",
      "execution_count": 33,
      "metadata": {
        "id": "wRziCiGa2ynR"
      },
      "outputs": [
        {
          "data": {
            "text/html": [
              "<style>#sk-container-id-1 {color: black;background-color: white;}#sk-container-id-1 pre{padding: 0;}#sk-container-id-1 div.sk-toggleable {background-color: white;}#sk-container-id-1 label.sk-toggleable__label {cursor: pointer;display: block;width: 100%;margin-bottom: 0;padding: 0.3em;box-sizing: border-box;text-align: center;}#sk-container-id-1 label.sk-toggleable__label-arrow:before {content: \"▸\";float: left;margin-right: 0.25em;color: #696969;}#sk-container-id-1 label.sk-toggleable__label-arrow:hover:before {color: black;}#sk-container-id-1 div.sk-estimator:hover label.sk-toggleable__label-arrow:before {color: black;}#sk-container-id-1 div.sk-toggleable__content {max-height: 0;max-width: 0;overflow: hidden;text-align: left;background-color: #f0f8ff;}#sk-container-id-1 div.sk-toggleable__content pre {margin: 0.2em;color: black;border-radius: 0.25em;background-color: #f0f8ff;}#sk-container-id-1 input.sk-toggleable__control:checked~div.sk-toggleable__content {max-height: 200px;max-width: 100%;overflow: auto;}#sk-container-id-1 input.sk-toggleable__control:checked~label.sk-toggleable__label-arrow:before {content: \"▾\";}#sk-container-id-1 div.sk-estimator input.sk-toggleable__control:checked~label.sk-toggleable__label {background-color: #d4ebff;}#sk-container-id-1 div.sk-label input.sk-toggleable__control:checked~label.sk-toggleable__label {background-color: #d4ebff;}#sk-container-id-1 input.sk-hidden--visually {border: 0;clip: rect(1px 1px 1px 1px);clip: rect(1px, 1px, 1px, 1px);height: 1px;margin: -1px;overflow: hidden;padding: 0;position: absolute;width: 1px;}#sk-container-id-1 div.sk-estimator {font-family: monospace;background-color: #f0f8ff;border: 1px dotted black;border-radius: 0.25em;box-sizing: border-box;margin-bottom: 0.5em;}#sk-container-id-1 div.sk-estimator:hover {background-color: #d4ebff;}#sk-container-id-1 div.sk-parallel-item::after {content: \"\";width: 100%;border-bottom: 1px solid gray;flex-grow: 1;}#sk-container-id-1 div.sk-label:hover label.sk-toggleable__label {background-color: #d4ebff;}#sk-container-id-1 div.sk-serial::before {content: \"\";position: absolute;border-left: 1px solid gray;box-sizing: border-box;top: 0;bottom: 0;left: 50%;z-index: 0;}#sk-container-id-1 div.sk-serial {display: flex;flex-direction: column;align-items: center;background-color: white;padding-right: 0.2em;padding-left: 0.2em;position: relative;}#sk-container-id-1 div.sk-item {position: relative;z-index: 1;}#sk-container-id-1 div.sk-parallel {display: flex;align-items: stretch;justify-content: center;background-color: white;position: relative;}#sk-container-id-1 div.sk-item::before, #sk-container-id-1 div.sk-parallel-item::before {content: \"\";position: absolute;border-left: 1px solid gray;box-sizing: border-box;top: 0;bottom: 0;left: 50%;z-index: -1;}#sk-container-id-1 div.sk-parallel-item {display: flex;flex-direction: column;z-index: 1;position: relative;background-color: white;}#sk-container-id-1 div.sk-parallel-item:first-child::after {align-self: flex-end;width: 50%;}#sk-container-id-1 div.sk-parallel-item:last-child::after {align-self: flex-start;width: 50%;}#sk-container-id-1 div.sk-parallel-item:only-child::after {width: 0;}#sk-container-id-1 div.sk-dashed-wrapped {border: 1px dashed gray;margin: 0 0.4em 0.5em 0.4em;box-sizing: border-box;padding-bottom: 0.4em;background-color: white;}#sk-container-id-1 div.sk-label label {font-family: monospace;font-weight: bold;display: inline-block;line-height: 1.2em;}#sk-container-id-1 div.sk-label-container {text-align: center;}#sk-container-id-1 div.sk-container {/* jupyter's `normalize.less` sets `[hidden] { display: none; }` but bootstrap.min.css set `[hidden] { display: none !important; }` so we also need the `!important` here to be able to override the default hidden behavior on the sphinx rendered scikit-learn.org. See: https://github.com/scikit-learn/scikit-learn/issues/21755 */display: inline-block !important;position: relative;}#sk-container-id-1 div.sk-text-repr-fallback {display: none;}</style><div id=\"sk-container-id-1\" class=\"sk-top-container\"><div class=\"sk-text-repr-fallback\"><pre>Pipeline(steps=[(&#x27;onehotencoder&#x27;,\n",
              "                 OneHotEncoder(cols=[&#x27;basin&#x27;, &#x27;region&#x27;, &#x27;public_meeting&#x27;,\n",
              "                                     &#x27;scheme_management&#x27;, &#x27;permit&#x27;,\n",
              "                                     &#x27;extraction_type&#x27;, &#x27;extraction_type_group&#x27;,\n",
              "                                     &#x27;extraction_type_class&#x27;, &#x27;management&#x27;,\n",
              "                                     &#x27;management_group&#x27;, &#x27;payment&#x27;,\n",
              "                                     &#x27;payment_type&#x27;, &#x27;water_quality&#x27;,\n",
              "                                     &#x27;quality_group&#x27;, &#x27;quantity&#x27;,\n",
              "                                     &#x27;quantity_group&#x27;, &#x27;source&#x27;, &#x27;source_type&#x27;,\n",
              "                                     &#x27;source_class&#x27;, &#x27;waterpoint_type&#x27;,\n",
              "                                     &#x27;waterpoint_type_group&#x27;],\n",
              "                               use_cat_names=True)),\n",
              "                (&#x27;simpleimputer&#x27;, SimpleImputer()),\n",
              "                (&#x27;standardscaler&#x27;, StandardScaler()),\n",
              "                (&#x27;logisticregression&#x27;, LogisticRegression(max_iter=200))])</pre><b>In a Jupyter environment, please rerun this cell to show the HTML representation or trust the notebook. <br />On GitHub, the HTML representation is unable to render, please try loading this page with nbviewer.org.</b></div><div class=\"sk-container\" hidden><div class=\"sk-item sk-dashed-wrapped\"><div class=\"sk-label-container\"><div class=\"sk-label sk-toggleable\"><input class=\"sk-toggleable__control sk-hidden--visually\" id=\"sk-estimator-id-1\" type=\"checkbox\" ><label for=\"sk-estimator-id-1\" class=\"sk-toggleable__label sk-toggleable__label-arrow\">Pipeline</label><div class=\"sk-toggleable__content\"><pre>Pipeline(steps=[(&#x27;onehotencoder&#x27;,\n",
              "                 OneHotEncoder(cols=[&#x27;basin&#x27;, &#x27;region&#x27;, &#x27;public_meeting&#x27;,\n",
              "                                     &#x27;scheme_management&#x27;, &#x27;permit&#x27;,\n",
              "                                     &#x27;extraction_type&#x27;, &#x27;extraction_type_group&#x27;,\n",
              "                                     &#x27;extraction_type_class&#x27;, &#x27;management&#x27;,\n",
              "                                     &#x27;management_group&#x27;, &#x27;payment&#x27;,\n",
              "                                     &#x27;payment_type&#x27;, &#x27;water_quality&#x27;,\n",
              "                                     &#x27;quality_group&#x27;, &#x27;quantity&#x27;,\n",
              "                                     &#x27;quantity_group&#x27;, &#x27;source&#x27;, &#x27;source_type&#x27;,\n",
              "                                     &#x27;source_class&#x27;, &#x27;waterpoint_type&#x27;,\n",
              "                                     &#x27;waterpoint_type_group&#x27;],\n",
              "                               use_cat_names=True)),\n",
              "                (&#x27;simpleimputer&#x27;, SimpleImputer()),\n",
              "                (&#x27;standardscaler&#x27;, StandardScaler()),\n",
              "                (&#x27;logisticregression&#x27;, LogisticRegression(max_iter=200))])</pre></div></div></div><div class=\"sk-serial\"><div class=\"sk-item\"><div class=\"sk-estimator sk-toggleable\"><input class=\"sk-toggleable__control sk-hidden--visually\" id=\"sk-estimator-id-2\" type=\"checkbox\" ><label for=\"sk-estimator-id-2\" class=\"sk-toggleable__label sk-toggleable__label-arrow\">OneHotEncoder</label><div class=\"sk-toggleable__content\"><pre>OneHotEncoder(cols=[&#x27;basin&#x27;, &#x27;region&#x27;, &#x27;public_meeting&#x27;, &#x27;scheme_management&#x27;,\n",
              "                    &#x27;permit&#x27;, &#x27;extraction_type&#x27;, &#x27;extraction_type_group&#x27;,\n",
              "                    &#x27;extraction_type_class&#x27;, &#x27;management&#x27;, &#x27;management_group&#x27;,\n",
              "                    &#x27;payment&#x27;, &#x27;payment_type&#x27;, &#x27;water_quality&#x27;, &#x27;quality_group&#x27;,\n",
              "                    &#x27;quantity&#x27;, &#x27;quantity_group&#x27;, &#x27;source&#x27;, &#x27;source_type&#x27;,\n",
              "                    &#x27;source_class&#x27;, &#x27;waterpoint_type&#x27;,\n",
              "                    &#x27;waterpoint_type_group&#x27;],\n",
              "              use_cat_names=True)</pre></div></div></div><div class=\"sk-item\"><div class=\"sk-estimator sk-toggleable\"><input class=\"sk-toggleable__control sk-hidden--visually\" id=\"sk-estimator-id-3\" type=\"checkbox\" ><label for=\"sk-estimator-id-3\" class=\"sk-toggleable__label sk-toggleable__label-arrow\">SimpleImputer</label><div class=\"sk-toggleable__content\"><pre>SimpleImputer()</pre></div></div></div><div class=\"sk-item\"><div class=\"sk-estimator sk-toggleable\"><input class=\"sk-toggleable__control sk-hidden--visually\" id=\"sk-estimator-id-4\" type=\"checkbox\" ><label for=\"sk-estimator-id-4\" class=\"sk-toggleable__label sk-toggleable__label-arrow\">StandardScaler</label><div class=\"sk-toggleable__content\"><pre>StandardScaler()</pre></div></div></div><div class=\"sk-item\"><div class=\"sk-estimator sk-toggleable\"><input class=\"sk-toggleable__control sk-hidden--visually\" id=\"sk-estimator-id-5\" type=\"checkbox\" ><label for=\"sk-estimator-id-5\" class=\"sk-toggleable__label sk-toggleable__label-arrow\">LogisticRegression</label><div class=\"sk-toggleable__content\"><pre>LogisticRegression(max_iter=200)</pre></div></div></div></div></div></div></div>"
            ],
            "text/plain": [
              "Pipeline(steps=[('onehotencoder',\n",
              "                 OneHotEncoder(cols=['basin', 'region', 'public_meeting',\n",
              "                                     'scheme_management', 'permit',\n",
              "                                     'extraction_type', 'extraction_type_group',\n",
              "                                     'extraction_type_class', 'management',\n",
              "                                     'management_group', 'payment',\n",
              "                                     'payment_type', 'water_quality',\n",
              "                                     'quality_group', 'quantity',\n",
              "                                     'quantity_group', 'source', 'source_type',\n",
              "                                     'source_class', 'waterpoint_type',\n",
              "                                     'waterpoint_type_group'],\n",
              "                               use_cat_names=True)),\n",
              "                ('simpleimputer', SimpleImputer()),\n",
              "                ('standardscaler', StandardScaler()),\n",
              "                ('logisticregression', LogisticRegression(max_iter=200))])"
            ]
          },
          "execution_count": 33,
          "metadata": {},
          "output_type": "execute_result"
        }
      ],
      "source": [
        "from sklearn.pipeline import make_pipeline\n",
        "from category_encoders import OneHotEncoder\n",
        "from sklearn.impute import SimpleImputer\n",
        "from sklearn.preprocessing import StandardScaler\n",
        "from sklearn.linear_model import LogisticRegression\n",
        "model_lr = make_pipeline(\n",
        "    OneHotEncoder(use_cat_names=True),\n",
        "    SimpleImputer(strategy = 'mean'),\n",
        "    StandardScaler(),\n",
        "    LogisticRegression(max_iter=200)\n",
        ")\n",
        "\n",
        "model_lr.fit(X_train, y_train)"
      ]
    },
    {
      "cell_type": "markdown",
      "metadata": {
        "id": "AMFtqMtkMbRw"
      },
      "source": [
        "**Second Model:** Decision Tree Classifier"
      ]
    },
    {
      "cell_type": "code",
      "execution_count": null,
      "metadata": {
        "id": "ukHNb4IND00z"
      },
      "outputs": [],
      "source": [
        "model_dt = make_pipeline()\n",
        "\n",
        "model_dt.fit(X_train, y_train)"
      ]
    },
    {
      "cell_type": "markdown",
      "metadata": {
        "id": "D63CwGlVvtSu"
      },
      "source": [
        "**Interlude: How does a tree model work?**"
      ]
    },
    {
      "cell_type": "code",
      "execution_count": null,
      "metadata": {
        "id": "k5gp7tIowkDB"
      },
      "outputs": [],
      "source": []
    },
    {
      "cell_type": "code",
      "execution_count": null,
      "metadata": {
        "id": "66LHM-tGwTP7"
      },
      "outputs": [],
      "source": []
    },
    {
      "cell_type": "markdown",
      "metadata": {
        "id": "v7Cr2n7Vu9cb"
      },
      "source": [
        "# V. Check Metrics"
      ]
    },
    {
      "cell_type": "code",
      "execution_count": 34,
      "metadata": {
        "id": "vmjtTct2IoXk"
      },
      "outputs": [
        {
          "name": "stdout",
          "output_type": "stream",
          "text": [
            "model_lr accuracy score for training 0.7387084045771406\n",
            "model_lr accuracy score for val 0.7322180134680135\n"
          ]
        }
      ],
      "source": [
        "from sklearn.metrics import accuracy_score\n",
        "print('model_lr accuracy score for training', accuracy_score(y_train, model_lr.predict(X_train)))\n",
        "print('model_lr accuracy score for val', accuracy_score(y_val, model_lr.predict(X_val)))"
      ]
    },
    {
      "cell_type": "code",
      "execution_count": null,
      "metadata": {
        "id": "DUix0NCRNUO-"
      },
      "outputs": [],
      "source": [
        "\n",
        "print('model_dt accuracy score for training', )\n",
        "print('model_dt accuracy score for val', )"
      ]
    },
    {
      "cell_type": "markdown",
      "metadata": {
        "id": "gln6sVSS4ZmQ"
      },
      "source": [
        "# VI. Tune Model"
      ]
    },
    {
      "cell_type": "code",
      "execution_count": null,
      "metadata": {
        "id": "vvDNrDeqx2Av"
      },
      "outputs": [],
      "source": [
        "depths = range(5, 20, 2)\n",
        "list(depths)"
      ]
    },
    {
      "cell_type": "code",
      "execution_count": null,
      "metadata": {
        "id": "YCEP2xq0TcuG"
      },
      "outputs": [],
      "source": [
        "# very similar steps to how we tuned alpha for ridge regression\n",
        "\n",
        "# train_acc = []\n",
        "# val_acc = []\n",
        "\n",
        "\n",
        "#   tree_model.fit(X_train, y_train)\n",
        "#   train_acc.append(tree_model.score(X_train, y_train))\n",
        "#   val_acc.append(tree_model.score(X_val, y_val))"
      ]
    },
    {
      "cell_type": "code",
      "execution_count": null,
      "metadata": {
        "id": "nckQirvjapf2"
      },
      "outputs": [],
      "source": [
        "\n",
        "# plt.plot(depths, train_acc, color='blue', label='training')\n",
        "# plt.plot(depths, val_acc, color='orange', label='validation')\n",
        "# plt.xlabel('max_depth')\n",
        "# plt.ylabel('accuracy')\n",
        "# plt.title('Validation Curves') # These plots are called VALIDATION CURVES!\n",
        "# plt.legend()\n",
        "# plt.show()"
      ]
    },
    {
      "cell_type": "markdown",
      "metadata": {
        "id": "syHY33Wr2O9F"
      },
      "source": [
        "# VII. Communicate Results\n"
      ]
    },
    {
      "cell_type": "markdown",
      "metadata": {
        "id": "4BXV7dsiUhyo"
      },
      "source": [
        "### Gini importance"
      ]
    },
    {
      "cell_type": "code",
      "execution_count": null,
      "metadata": {
        "id": "D0RpRkqalde9"
      },
      "outputs": [],
      "source": [
        "features =\n",
        "gini_importances =\n",
        "pd.Series(data=gini_importances, index=features).sort_values(key=abs).tail(10).plot(kind='barh')\n",
        "plt.ylabel('features')\n",
        "plt.xlabel('gini importance');"
      ]
    },
    {
      "cell_type": "markdown",
      "metadata": {
        "id": "SG9I4zGa-r5S"
      },
      "source": [
        "# VIII. Kaggle Submission"
      ]
    },
    {
      "cell_type": "code",
      "execution_count": null,
      "metadata": {
        "id": "DhcwcQRylmfY"
      },
      "outputs": [],
      "source": [
        "predictions = pd.DataFrame(data=model_lr.predict(X_test), index=X_test.index)"
      ]
    },
    {
      "cell_type": "code",
      "execution_count": null,
      "metadata": {
        "id": "xi6HV3GBlqVV"
      },
      "outputs": [],
      "source": [
        "predictions.columns = ['status_group']"
      ]
    },
    {
      "cell_type": "code",
      "execution_count": null,
      "metadata": {
        "id": "HUorQNw51cYF"
      },
      "outputs": [],
      "source": [
        "predictions"
      ]
    },
    {
      "cell_type": "code",
      "execution_count": null,
      "metadata": {
        "id": "aNdxTAd0lswo"
      },
      "outputs": [],
      "source": [
        "# generate CSV\n",
        "predictions.to_csv('new_submission.csv')"
      ]
    },
    {
      "cell_type": "code",
      "execution_count": null,
      "metadata": {
        "id": "IaicJnyLrWES"
      },
      "outputs": [],
      "source": []
    }
  ],
  "metadata": {
    "colab": {
      "provenance": []
    },
    "kernelspec": {
      "display_name": "Python 3 (ipykernel)",
      "language": "python",
      "name": "python3"
    },
    "language_info": {
      "codemirror_mode": {
        "name": "ipython",
        "version": 3
      },
      "file_extension": ".py",
      "mimetype": "text/x-python",
      "name": "python",
      "nbconvert_exporter": "python",
      "pygments_lexer": "ipython3",
      "version": "3.11.7"
    }
  },
  "nbformat": 4,
  "nbformat_minor": 0
}
