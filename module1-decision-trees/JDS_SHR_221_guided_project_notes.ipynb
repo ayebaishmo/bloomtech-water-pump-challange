{
  "cells": [
    {
      "cell_type": "markdown",
      "metadata": {
        "id": "RUhphDysw-6P"
      },
      "source": [
        "## BloomTech Data Science\n",
        "\n",
        "**Note on Imports**\n",
        "There have been some updates to the names of imports that will not match the names in the guided project. This is normal as pandas have updated the names and the current code has updated to match.\n",
        "Here is an [Article](https://www.datacamp.com/tutorial/pandas-profiling-ydata-profiling-in-python-guide) about the changes.\n",
        "---\n"
      ]
    },
    {
      "cell_type": "markdown",
      "metadata": {
        "id": "NvWhcow-dvS8"
      },
      "source": [
        "# Decision Trees\n",
        "\n",
        "- clean data with **outliers and missing values**\n",
        "- use scikit-learn for **decision trees**\n",
        "- get and interpret **feature importances** of a tree-based model\n",
        "- understand why decision trees are useful to model"
      ]
    },
    {
      "cell_type": "code",
      "execution_count": 1,
      "metadata": {
        "id": "HRgkCSgGdty-"
      },
      "outputs": [],
      "source": [
        "%%capture\n",
        "#!pip install category_encoders==2.*\n",
        "#pip install ydata_profiling==4.*"
      ]
    },
    {
      "cell_type": "code",
      "execution_count": 2,
      "metadata": {
        "ExecuteTime": {
          "end_time": "2023-07-06T14:23:30.486403Z",
          "start_time": "2023-07-06T14:23:30.474290Z"
        },
        "id": "Zp1eAYDMlLvn"
      },
      "outputs": [],
      "source": [
        "#from sklearn.model_selection import train_test_split\n",
        "#from sklearn.pipeline import make_pipeline\n",
        "#from category_encoders import OneHotEncoder, OrdinalEncoder\n",
        "#from sklearn.preprocessing import StandardScaler\n",
        "#from sklearn.impute import SimpleImputer\n",
        "#from sklearn.linear_model import LogisticRegression\n",
        "#from sklearn.metrics import accuracy_score\n",
        "#from sklearn.tree import DecisionTreeClassifier, plot_tree\n",
        "#from pandas_profiling import ProfileReport\n",
        "#import matplotlib.pyplot as plt\n",
        "import pandas as pd\n",
        "import numpy as np\n",
        "\n",
        "# pd.options.display.max_rows = 100"
      ]
    },
    {
      "cell_type": "markdown",
      "metadata": {
        "id": "sUmaaCmCprYw"
      },
      "source": [
        "# Downloading the Tanzania Waterpump Dataset"
      ]
    },
    {
      "cell_type": "markdown",
      "metadata": {
        "id": "nUUieyFk5A9u"
      },
      "source": [
        "Make sure  you only use the dataset that is available through the **DS** **Kaggle Competition**. DO NOT USE any other Tanzania waterpump datasets that you might find online.\n",
        "\n",
        "There are two ways you can get the dataset. Make sure you have joined the competition first!:\n",
        "\n",
        "1. You can download the dataset directly by accessing the challenge and the files through the Kaggle Competition URL on Canvas (make sure you have joined the competition!)\n",
        "\n",
        "2. Use the Kaggle API using the code in the following cells. This article provides helpful information on how to fetch your Kaggle Dataset into Google Colab using the Kaggle API.\n",
        "\n",
        "> https://medium.com/analytics-vidhya/how-to-fetch-kaggle-datasets-into-google-colab-ea682569851a"
      ]
    },
    {
      "cell_type": "markdown",
      "metadata": {
        "id": "d6TZ5nDFYkCa"
      },
      "source": [
        "# Using Kaggle API to download dataset"
      ]
    },
    {
      "cell_type": "code",
      "execution_count": 3,
      "metadata": {
        "id": "X2e6fPUATxLZ"
      },
      "outputs": [],
      "source": [
        "# mounting your google drive on colab\n",
        "#from google.colab import drive\n",
        "#drive.mount('/content/gdrive')"
      ]
    },
    {
      "cell_type": "code",
      "execution_count": 4,
      "metadata": {
        "id": "xKVUgI4vedVO"
      },
      "outputs": [],
      "source": [
        "#from google.colab import drive\n",
        "#drive.mount('/content/drive')"
      ]
    },
    {
      "cell_type": "code",
      "execution_count": 5,
      "metadata": {
        "id": "KYSpUv9uYBAo"
      },
      "outputs": [],
      "source": [
        "#change your working directory, if you want to or have already saved your kaggle dataset on google drive.\n",
        "#%cd /content/gdrive/My Drive/Kaggle\n",
        "# update it to your folder location on drive that contians the dataset and/or kaggle API token json file."
      ]
    },
    {
      "cell_type": "code",
      "execution_count": 6,
      "metadata": {
        "id": "dXChvgdZYb_t"
      },
      "outputs": [],
      "source": [
        "# Download your Kaggle Dataset, if you haven't already done so\n",
        "#import os\n",
        "#os.environ['KAGGLE_CONFIG_DIR'] = \"/content/gdrive/My Drive/Kaggle\" # providing the config path to kaggle.json\n",
        "#!kaggle competitions download -c bloomtech-water-pump-challenge # downloading dataset by running the Kaggle API command"
      ]
    },
    {
      "cell_type": "code",
      "execution_count": 7,
      "metadata": {
        "id": "NB84qgRRYdDF"
      },
      "outputs": [],
      "source": [
        "# Unzip your Kaggle dataset, if you haven't already done so.\n",
        "# !unzip \\*.zip  && rm *.zip"
      ]
    },
    {
      "cell_type": "code",
      "execution_count": 8,
      "metadata": {
        "id": "eag2zYiQYf6q"
      },
      "outputs": [],
      "source": [
        "# List all files in your Kaggle folder on your google drive.\n",
        "#!ls"
      ]
    },
    {
      "cell_type": "code",
      "execution_count": 9,
      "metadata": {
        "id": "hXpMHyrIzp0K"
      },
      "outputs": [],
      "source": [
        "import pandas as pd\n",
        "train_features = pd.read_csv('C:/Users/ISHMO_CT/Downloads/bloomtech-water-pump-challenge/train_features.csv')\n",
        "train_labels = pd.read_csv('C:/Users/ISHMO_CT/Downloads/bloomtech-water-pump-challenge/train_labels.csv')\n",
        "test_features = pd.read_csv('C:/Users/ISHMO_CT/Downloads/bloomtech-water-pump-challenge/test_features.csv')"
      ]
    },
    {
      "cell_type": "markdown",
      "metadata": {
        "collapsed": false,
        "id": "DDP8tbXFrWDI"
      },
      "source": [
        "### Data - Option 2\n",
        "If you're having trouble with getting the Kaggle data mounted in Google Drive, here's another option..."
      ]
    },
    {
      "cell_type": "code",
      "execution_count": 10,
      "metadata": {
        "ExecuteTime": {
          "end_time": "2023-07-06T14:24:40.976263Z",
          "start_time": "2023-07-06T14:24:40.972839Z"
        },
        "id": "A4SUisF8rWDI"
      },
      "outputs": [],
      "source": [
        "#DATAPATH = \"https://raw.githubusercontent.com/bloominstituteoftechnology/DS-Unit-2-Kaggle-Challenge/master/data/kaggle/\""
      ]
    },
    {
      "cell_type": "code",
      "execution_count": 11,
      "metadata": {
        "ExecuteTime": {
          "end_time": "2023-07-06T14:33:54.504912Z",
          "start_time": "2023-07-06T14:33:51.094703Z"
        },
        "id": "gz5i5KB2rWDI"
      },
      "outputs": [],
      "source": [
        "#train_features = pd.read_csv(DATAPATH + 'train_features.csv')\n",
        "#train_labels = pd.read_csv(DATAPATH + 'train_labels.csv')\n",
        "#test_features = pd.read_csv(DATAPATH + 'test_features.csv')"
      ]
    },
    {
      "cell_type": "markdown",
      "metadata": {
        "collapsed": false,
        "id": "3ESiJySlrWDI"
      },
      "source": [
        "# I. Wrangle Data\n"
      ]
    },
    {
      "cell_type": "code",
      "execution_count": 12,
      "metadata": {
        "ExecuteTime": {
          "end_time": "2023-07-06T14:33:55.961275Z",
          "start_time": "2023-07-06T14:33:55.951710Z"
        },
        "id": "UbOEOI0Sztn0",
        "outputId": "70366fb6-8a18-4def-e98d-bd57c0af3c79"
      },
      "outputs": [
        {
          "data": {
            "text/html": [
              "<div>\n",
              "<style scoped>\n",
              "    .dataframe tbody tr th:only-of-type {\n",
              "        vertical-align: middle;\n",
              "    }\n",
              "\n",
              "    .dataframe tbody tr th {\n",
              "        vertical-align: top;\n",
              "    }\n",
              "\n",
              "    .dataframe thead th {\n",
              "        text-align: right;\n",
              "    }\n",
              "</style>\n",
              "<table border=\"1\" class=\"dataframe\">\n",
              "  <thead>\n",
              "    <tr style=\"text-align: right;\">\n",
              "      <th></th>\n",
              "      <th>id</th>\n",
              "      <th>amount_tsh</th>\n",
              "      <th>date_recorded</th>\n",
              "      <th>funder</th>\n",
              "      <th>gps_height</th>\n",
              "      <th>installer</th>\n",
              "      <th>longitude</th>\n",
              "      <th>latitude</th>\n",
              "      <th>wpt_name</th>\n",
              "      <th>num_private</th>\n",
              "      <th>...</th>\n",
              "      <th>payment_type</th>\n",
              "      <th>water_quality</th>\n",
              "      <th>quality_group</th>\n",
              "      <th>quantity</th>\n",
              "      <th>quantity_group</th>\n",
              "      <th>source</th>\n",
              "      <th>source_type</th>\n",
              "      <th>source_class</th>\n",
              "      <th>waterpoint_type</th>\n",
              "      <th>waterpoint_type_group</th>\n",
              "    </tr>\n",
              "  </thead>\n",
              "  <tbody>\n",
              "    <tr>\n",
              "      <th>0</th>\n",
              "      <td>454</td>\n",
              "      <td>50.0</td>\n",
              "      <td>2013-02-27</td>\n",
              "      <td>Dmdd</td>\n",
              "      <td>2092</td>\n",
              "      <td>DMDD</td>\n",
              "      <td>35.426020</td>\n",
              "      <td>-4.227446</td>\n",
              "      <td>Narmo</td>\n",
              "      <td>0</td>\n",
              "      <td>...</td>\n",
              "      <td>per bucket</td>\n",
              "      <td>soft</td>\n",
              "      <td>good</td>\n",
              "      <td>insufficient</td>\n",
              "      <td>insufficient</td>\n",
              "      <td>spring</td>\n",
              "      <td>spring</td>\n",
              "      <td>groundwater</td>\n",
              "      <td>communal standpipe</td>\n",
              "      <td>communal standpipe</td>\n",
              "    </tr>\n",
              "    <tr>\n",
              "      <th>1</th>\n",
              "      <td>510</td>\n",
              "      <td>0.0</td>\n",
              "      <td>2011-03-17</td>\n",
              "      <td>Cmsr</td>\n",
              "      <td>0</td>\n",
              "      <td>Gove</td>\n",
              "      <td>35.510074</td>\n",
              "      <td>-5.724555</td>\n",
              "      <td>Lukali</td>\n",
              "      <td>0</td>\n",
              "      <td>...</td>\n",
              "      <td>never pay</td>\n",
              "      <td>soft</td>\n",
              "      <td>good</td>\n",
              "      <td>enough</td>\n",
              "      <td>enough</td>\n",
              "      <td>shallow well</td>\n",
              "      <td>shallow well</td>\n",
              "      <td>groundwater</td>\n",
              "      <td>hand pump</td>\n",
              "      <td>hand pump</td>\n",
              "    </tr>\n",
              "    <tr>\n",
              "      <th>2</th>\n",
              "      <td>14146</td>\n",
              "      <td>0.0</td>\n",
              "      <td>2011-07-10</td>\n",
              "      <td>Kkkt</td>\n",
              "      <td>0</td>\n",
              "      <td>KKKT</td>\n",
              "      <td>32.499866</td>\n",
              "      <td>-9.081222</td>\n",
              "      <td>Mahakama</td>\n",
              "      <td>0</td>\n",
              "      <td>...</td>\n",
              "      <td>never pay</td>\n",
              "      <td>soft</td>\n",
              "      <td>good</td>\n",
              "      <td>enough</td>\n",
              "      <td>enough</td>\n",
              "      <td>shallow well</td>\n",
              "      <td>shallow well</td>\n",
              "      <td>groundwater</td>\n",
              "      <td>other</td>\n",
              "      <td>other</td>\n",
              "    </tr>\n",
              "    <tr>\n",
              "      <th>3</th>\n",
              "      <td>47410</td>\n",
              "      <td>0.0</td>\n",
              "      <td>2011-04-12</td>\n",
              "      <td>NaN</td>\n",
              "      <td>0</td>\n",
              "      <td>NaN</td>\n",
              "      <td>34.060484</td>\n",
              "      <td>-8.830208</td>\n",
              "      <td>Shule Ya Msingi Chosi A</td>\n",
              "      <td>0</td>\n",
              "      <td>...</td>\n",
              "      <td>monthly</td>\n",
              "      <td>soft</td>\n",
              "      <td>good</td>\n",
              "      <td>insufficient</td>\n",
              "      <td>insufficient</td>\n",
              "      <td>river</td>\n",
              "      <td>river/lake</td>\n",
              "      <td>surface</td>\n",
              "      <td>communal standpipe</td>\n",
              "      <td>communal standpipe</td>\n",
              "    </tr>\n",
              "    <tr>\n",
              "      <th>4</th>\n",
              "      <td>1288</td>\n",
              "      <td>300.0</td>\n",
              "      <td>2011-04-05</td>\n",
              "      <td>Ki</td>\n",
              "      <td>1023</td>\n",
              "      <td>Ki</td>\n",
              "      <td>37.032690</td>\n",
              "      <td>-6.040787</td>\n",
              "      <td>Kwa Mjowe</td>\n",
              "      <td>0</td>\n",
              "      <td>...</td>\n",
              "      <td>on failure</td>\n",
              "      <td>salty</td>\n",
              "      <td>salty</td>\n",
              "      <td>enough</td>\n",
              "      <td>enough</td>\n",
              "      <td>shallow well</td>\n",
              "      <td>shallow well</td>\n",
              "      <td>groundwater</td>\n",
              "      <td>other</td>\n",
              "      <td>other</td>\n",
              "    </tr>\n",
              "  </tbody>\n",
              "</table>\n",
              "<p>5 rows × 40 columns</p>\n",
              "</div>"
            ],
            "text/plain": [
              "      id  amount_tsh date_recorded funder  gps_height installer  longitude  \\\n",
              "0    454        50.0    2013-02-27   Dmdd        2092      DMDD  35.426020   \n",
              "1    510         0.0    2011-03-17   Cmsr           0      Gove  35.510074   \n",
              "2  14146         0.0    2011-07-10   Kkkt           0      KKKT  32.499866   \n",
              "3  47410         0.0    2011-04-12    NaN           0       NaN  34.060484   \n",
              "4   1288       300.0    2011-04-05     Ki        1023        Ki  37.032690   \n",
              "\n",
              "   latitude                 wpt_name  num_private  ... payment_type  \\\n",
              "0 -4.227446                    Narmo            0  ...   per bucket   \n",
              "1 -5.724555                   Lukali            0  ...    never pay   \n",
              "2 -9.081222                 Mahakama            0  ...    never pay   \n",
              "3 -8.830208  Shule Ya Msingi Chosi A            0  ...      monthly   \n",
              "4 -6.040787                Kwa Mjowe            0  ...   on failure   \n",
              "\n",
              "  water_quality quality_group      quantity  quantity_group        source  \\\n",
              "0          soft          good  insufficient    insufficient        spring   \n",
              "1          soft          good        enough          enough  shallow well   \n",
              "2          soft          good        enough          enough  shallow well   \n",
              "3          soft          good  insufficient    insufficient         river   \n",
              "4         salty         salty        enough          enough  shallow well   \n",
              "\n",
              "    source_type  source_class     waterpoint_type waterpoint_type_group  \n",
              "0        spring   groundwater  communal standpipe    communal standpipe  \n",
              "1  shallow well   groundwater           hand pump             hand pump  \n",
              "2  shallow well   groundwater               other                 other  \n",
              "3    river/lake       surface  communal standpipe    communal standpipe  \n",
              "4  shallow well   groundwater               other                 other  \n",
              "\n",
              "[5 rows x 40 columns]"
            ]
          },
          "execution_count": 12,
          "metadata": {},
          "output_type": "execute_result"
        }
      ],
      "source": [
        "train_features.head()"
      ]
    },
    {
      "cell_type": "code",
      "execution_count": 13,
      "metadata": {
        "ExecuteTime": {
          "end_time": "2023-07-06T14:33:56.924263Z",
          "start_time": "2023-07-06T14:33:56.921167Z"
        },
        "id": "JRjX4Hpt0Olv",
        "outputId": "83f119bc-382e-4e5d-8c3a-6f2788beedba"
      },
      "outputs": [
        {
          "data": {
            "text/html": [
              "<div>\n",
              "<style scoped>\n",
              "    .dataframe tbody tr th:only-of-type {\n",
              "        vertical-align: middle;\n",
              "    }\n",
              "\n",
              "    .dataframe tbody tr th {\n",
              "        vertical-align: top;\n",
              "    }\n",
              "\n",
              "    .dataframe thead th {\n",
              "        text-align: right;\n",
              "    }\n",
              "</style>\n",
              "<table border=\"1\" class=\"dataframe\">\n",
              "  <thead>\n",
              "    <tr style=\"text-align: right;\">\n",
              "      <th></th>\n",
              "      <th>id</th>\n",
              "      <th>status_group</th>\n",
              "    </tr>\n",
              "  </thead>\n",
              "  <tbody>\n",
              "    <tr>\n",
              "      <th>0</th>\n",
              "      <td>454</td>\n",
              "      <td>functional</td>\n",
              "    </tr>\n",
              "    <tr>\n",
              "      <th>1</th>\n",
              "      <td>510</td>\n",
              "      <td>functional</td>\n",
              "    </tr>\n",
              "    <tr>\n",
              "      <th>2</th>\n",
              "      <td>14146</td>\n",
              "      <td>non functional</td>\n",
              "    </tr>\n",
              "    <tr>\n",
              "      <th>3</th>\n",
              "      <td>47410</td>\n",
              "      <td>non functional</td>\n",
              "    </tr>\n",
              "    <tr>\n",
              "      <th>4</th>\n",
              "      <td>1288</td>\n",
              "      <td>non functional</td>\n",
              "    </tr>\n",
              "  </tbody>\n",
              "</table>\n",
              "</div>"
            ],
            "text/plain": [
              "      id    status_group\n",
              "0    454      functional\n",
              "1    510      functional\n",
              "2  14146  non functional\n",
              "3  47410  non functional\n",
              "4   1288  non functional"
            ]
          },
          "execution_count": 13,
          "metadata": {},
          "output_type": "execute_result"
        }
      ],
      "source": [
        "train_labels.head()"
      ]
    },
    {
      "cell_type": "code",
      "execution_count": 14,
      "metadata": {
        "ExecuteTime": {
          "end_time": "2023-07-06T14:33:57.778173Z",
          "start_time": "2023-07-06T14:33:57.764737Z"
        },
        "id": "_sUGw5FfzvZA",
        "outputId": "1ced0078-5ead-4ecd-ff99-2208048aa0e8"
      },
      "outputs": [
        {
          "data": {
            "text/html": [
              "<div>\n",
              "<style scoped>\n",
              "    .dataframe tbody tr th:only-of-type {\n",
              "        vertical-align: middle;\n",
              "    }\n",
              "\n",
              "    .dataframe tbody tr th {\n",
              "        vertical-align: top;\n",
              "    }\n",
              "\n",
              "    .dataframe thead th {\n",
              "        text-align: right;\n",
              "    }\n",
              "</style>\n",
              "<table border=\"1\" class=\"dataframe\">\n",
              "  <thead>\n",
              "    <tr style=\"text-align: right;\">\n",
              "      <th></th>\n",
              "      <th>id</th>\n",
              "      <th>amount_tsh</th>\n",
              "      <th>date_recorded</th>\n",
              "      <th>funder</th>\n",
              "      <th>gps_height</th>\n",
              "      <th>installer</th>\n",
              "      <th>longitude</th>\n",
              "      <th>latitude</th>\n",
              "      <th>wpt_name</th>\n",
              "      <th>num_private</th>\n",
              "      <th>...</th>\n",
              "      <th>payment_type</th>\n",
              "      <th>water_quality</th>\n",
              "      <th>quality_group</th>\n",
              "      <th>quantity</th>\n",
              "      <th>quantity_group</th>\n",
              "      <th>source</th>\n",
              "      <th>source_type</th>\n",
              "      <th>source_class</th>\n",
              "      <th>waterpoint_type</th>\n",
              "      <th>waterpoint_type_group</th>\n",
              "    </tr>\n",
              "  </thead>\n",
              "  <tbody>\n",
              "    <tr>\n",
              "      <th>0</th>\n",
              "      <td>37098</td>\n",
              "      <td>0.0</td>\n",
              "      <td>2012-10-09</td>\n",
              "      <td>Rural Water Supply And Sanitat</td>\n",
              "      <td>0</td>\n",
              "      <td>DWE</td>\n",
              "      <td>31.985658</td>\n",
              "      <td>-3.596360</td>\n",
              "      <td>Kasela</td>\n",
              "      <td>0</td>\n",
              "      <td>...</td>\n",
              "      <td>unknown</td>\n",
              "      <td>soft</td>\n",
              "      <td>good</td>\n",
              "      <td>dry</td>\n",
              "      <td>dry</td>\n",
              "      <td>shallow well</td>\n",
              "      <td>shallow well</td>\n",
              "      <td>groundwater</td>\n",
              "      <td>other</td>\n",
              "      <td>other</td>\n",
              "    </tr>\n",
              "    <tr>\n",
              "      <th>1</th>\n",
              "      <td>14530</td>\n",
              "      <td>0.0</td>\n",
              "      <td>2012-11-03</td>\n",
              "      <td>Halmashauri Ya Manispa Tabora</td>\n",
              "      <td>0</td>\n",
              "      <td>Halmashauri ya manispa tabora</td>\n",
              "      <td>32.832815</td>\n",
              "      <td>-4.944937</td>\n",
              "      <td>Mbugani</td>\n",
              "      <td>0</td>\n",
              "      <td>...</td>\n",
              "      <td>never pay</td>\n",
              "      <td>milky</td>\n",
              "      <td>milky</td>\n",
              "      <td>insufficient</td>\n",
              "      <td>insufficient</td>\n",
              "      <td>shallow well</td>\n",
              "      <td>shallow well</td>\n",
              "      <td>groundwater</td>\n",
              "      <td>hand pump</td>\n",
              "      <td>hand pump</td>\n",
              "    </tr>\n",
              "    <tr>\n",
              "      <th>2</th>\n",
              "      <td>62607</td>\n",
              "      <td>10.0</td>\n",
              "      <td>2013-02-25</td>\n",
              "      <td>Siter Fransis</td>\n",
              "      <td>1675</td>\n",
              "      <td>DWE</td>\n",
              "      <td>35.488289</td>\n",
              "      <td>-4.242048</td>\n",
              "      <td>Kwa Leosi</td>\n",
              "      <td>0</td>\n",
              "      <td>...</td>\n",
              "      <td>per bucket</td>\n",
              "      <td>soft</td>\n",
              "      <td>good</td>\n",
              "      <td>insufficient</td>\n",
              "      <td>insufficient</td>\n",
              "      <td>spring</td>\n",
              "      <td>spring</td>\n",
              "      <td>groundwater</td>\n",
              "      <td>communal standpipe</td>\n",
              "      <td>communal standpipe</td>\n",
              "    </tr>\n",
              "    <tr>\n",
              "      <th>3</th>\n",
              "      <td>46053</td>\n",
              "      <td>0.0</td>\n",
              "      <td>2011-08-13</td>\n",
              "      <td>Kkkt</td>\n",
              "      <td>0</td>\n",
              "      <td>KKKT</td>\n",
              "      <td>33.140828</td>\n",
              "      <td>-9.059386</td>\n",
              "      <td>Jangi</td>\n",
              "      <td>0</td>\n",
              "      <td>...</td>\n",
              "      <td>never pay</td>\n",
              "      <td>soft</td>\n",
              "      <td>good</td>\n",
              "      <td>seasonal</td>\n",
              "      <td>seasonal</td>\n",
              "      <td>shallow well</td>\n",
              "      <td>shallow well</td>\n",
              "      <td>groundwater</td>\n",
              "      <td>hand pump</td>\n",
              "      <td>hand pump</td>\n",
              "    </tr>\n",
              "    <tr>\n",
              "      <th>4</th>\n",
              "      <td>47083</td>\n",
              "      <td>50.0</td>\n",
              "      <td>2013-02-08</td>\n",
              "      <td>Wateraid</td>\n",
              "      <td>1109</td>\n",
              "      <td>SEMA</td>\n",
              "      <td>34.217077</td>\n",
              "      <td>-4.430529</td>\n",
              "      <td>Mkima</td>\n",
              "      <td>0</td>\n",
              "      <td>...</td>\n",
              "      <td>per bucket</td>\n",
              "      <td>soft</td>\n",
              "      <td>good</td>\n",
              "      <td>enough</td>\n",
              "      <td>enough</td>\n",
              "      <td>machine dbh</td>\n",
              "      <td>borehole</td>\n",
              "      <td>groundwater</td>\n",
              "      <td>communal standpipe multiple</td>\n",
              "      <td>communal standpipe</td>\n",
              "    </tr>\n",
              "  </tbody>\n",
              "</table>\n",
              "<p>5 rows × 40 columns</p>\n",
              "</div>"
            ],
            "text/plain": [
              "      id  amount_tsh date_recorded                          funder  \\\n",
              "0  37098         0.0    2012-10-09  Rural Water Supply And Sanitat   \n",
              "1  14530         0.0    2012-11-03   Halmashauri Ya Manispa Tabora   \n",
              "2  62607        10.0    2013-02-25                   Siter Fransis   \n",
              "3  46053         0.0    2011-08-13                            Kkkt   \n",
              "4  47083        50.0    2013-02-08                        Wateraid   \n",
              "\n",
              "   gps_height                      installer  longitude  latitude   wpt_name  \\\n",
              "0           0                            DWE  31.985658 -3.596360     Kasela   \n",
              "1           0  Halmashauri ya manispa tabora  32.832815 -4.944937    Mbugani   \n",
              "2        1675                            DWE  35.488289 -4.242048  Kwa Leosi   \n",
              "3           0                           KKKT  33.140828 -9.059386      Jangi   \n",
              "4        1109                           SEMA  34.217077 -4.430529      Mkima   \n",
              "\n",
              "   num_private  ... payment_type water_quality quality_group      quantity  \\\n",
              "0            0  ...      unknown          soft          good           dry   \n",
              "1            0  ...    never pay         milky         milky  insufficient   \n",
              "2            0  ...   per bucket          soft          good  insufficient   \n",
              "3            0  ...    never pay          soft          good      seasonal   \n",
              "4            0  ...   per bucket          soft          good        enough   \n",
              "\n",
              "   quantity_group        source   source_type  source_class  \\\n",
              "0             dry  shallow well  shallow well   groundwater   \n",
              "1    insufficient  shallow well  shallow well   groundwater   \n",
              "2    insufficient        spring        spring   groundwater   \n",
              "3        seasonal  shallow well  shallow well   groundwater   \n",
              "4          enough   machine dbh      borehole   groundwater   \n",
              "\n",
              "               waterpoint_type waterpoint_type_group  \n",
              "0                        other                 other  \n",
              "1                    hand pump             hand pump  \n",
              "2           communal standpipe    communal standpipe  \n",
              "3                    hand pump             hand pump  \n",
              "4  communal standpipe multiple    communal standpipe  \n",
              "\n",
              "[5 rows x 40 columns]"
            ]
          },
          "execution_count": 14,
          "metadata": {},
          "output_type": "execute_result"
        }
      ],
      "source": [
        "test_features.head()"
      ]
    },
    {
      "cell_type": "code",
      "execution_count": 15,
      "metadata": {
        "ExecuteTime": {
          "end_time": "2023-07-06T14:35:22.822978Z",
          "start_time": "2023-07-06T14:35:22.748745Z"
        },
        "id": "DN79RES5vzqr",
        "outputId": "765f811b-8f94-4d38-fd69-e0052e5dbb54"
      },
      "outputs": [
        {
          "data": {
            "text/html": [
              "<div>\n",
              "<style scoped>\n",
              "    .dataframe tbody tr th:only-of-type {\n",
              "        vertical-align: middle;\n",
              "    }\n",
              "\n",
              "    .dataframe tbody tr th {\n",
              "        vertical-align: top;\n",
              "    }\n",
              "\n",
              "    .dataframe thead th {\n",
              "        text-align: right;\n",
              "    }\n",
              "</style>\n",
              "<table border=\"1\" class=\"dataframe\">\n",
              "  <thead>\n",
              "    <tr style=\"text-align: right;\">\n",
              "      <th></th>\n",
              "      <th>id</th>\n",
              "      <th>amount_tsh</th>\n",
              "      <th>date_recorded</th>\n",
              "      <th>funder</th>\n",
              "      <th>gps_height</th>\n",
              "      <th>installer</th>\n",
              "      <th>longitude</th>\n",
              "      <th>latitude</th>\n",
              "      <th>wpt_name</th>\n",
              "      <th>num_private</th>\n",
              "      <th>...</th>\n",
              "      <th>water_quality</th>\n",
              "      <th>quality_group</th>\n",
              "      <th>quantity</th>\n",
              "      <th>quantity_group</th>\n",
              "      <th>source</th>\n",
              "      <th>source_type</th>\n",
              "      <th>source_class</th>\n",
              "      <th>waterpoint_type</th>\n",
              "      <th>waterpoint_type_group</th>\n",
              "      <th>status_group</th>\n",
              "    </tr>\n",
              "  </thead>\n",
              "  <tbody>\n",
              "    <tr>\n",
              "      <th>0</th>\n",
              "      <td>454</td>\n",
              "      <td>50.0</td>\n",
              "      <td>2013-02-27</td>\n",
              "      <td>Dmdd</td>\n",
              "      <td>2092</td>\n",
              "      <td>DMDD</td>\n",
              "      <td>35.426020</td>\n",
              "      <td>-4.227446</td>\n",
              "      <td>Narmo</td>\n",
              "      <td>0</td>\n",
              "      <td>...</td>\n",
              "      <td>soft</td>\n",
              "      <td>good</td>\n",
              "      <td>insufficient</td>\n",
              "      <td>insufficient</td>\n",
              "      <td>spring</td>\n",
              "      <td>spring</td>\n",
              "      <td>groundwater</td>\n",
              "      <td>communal standpipe</td>\n",
              "      <td>communal standpipe</td>\n",
              "      <td>functional</td>\n",
              "    </tr>\n",
              "    <tr>\n",
              "      <th>1</th>\n",
              "      <td>510</td>\n",
              "      <td>0.0</td>\n",
              "      <td>2011-03-17</td>\n",
              "      <td>Cmsr</td>\n",
              "      <td>0</td>\n",
              "      <td>Gove</td>\n",
              "      <td>35.510074</td>\n",
              "      <td>-5.724555</td>\n",
              "      <td>Lukali</td>\n",
              "      <td>0</td>\n",
              "      <td>...</td>\n",
              "      <td>soft</td>\n",
              "      <td>good</td>\n",
              "      <td>enough</td>\n",
              "      <td>enough</td>\n",
              "      <td>shallow well</td>\n",
              "      <td>shallow well</td>\n",
              "      <td>groundwater</td>\n",
              "      <td>hand pump</td>\n",
              "      <td>hand pump</td>\n",
              "      <td>functional</td>\n",
              "    </tr>\n",
              "    <tr>\n",
              "      <th>2</th>\n",
              "      <td>14146</td>\n",
              "      <td>0.0</td>\n",
              "      <td>2011-07-10</td>\n",
              "      <td>Kkkt</td>\n",
              "      <td>0</td>\n",
              "      <td>KKKT</td>\n",
              "      <td>32.499866</td>\n",
              "      <td>-9.081222</td>\n",
              "      <td>Mahakama</td>\n",
              "      <td>0</td>\n",
              "      <td>...</td>\n",
              "      <td>soft</td>\n",
              "      <td>good</td>\n",
              "      <td>enough</td>\n",
              "      <td>enough</td>\n",
              "      <td>shallow well</td>\n",
              "      <td>shallow well</td>\n",
              "      <td>groundwater</td>\n",
              "      <td>other</td>\n",
              "      <td>other</td>\n",
              "      <td>non functional</td>\n",
              "    </tr>\n",
              "    <tr>\n",
              "      <th>3</th>\n",
              "      <td>47410</td>\n",
              "      <td>0.0</td>\n",
              "      <td>2011-04-12</td>\n",
              "      <td>NaN</td>\n",
              "      <td>0</td>\n",
              "      <td>NaN</td>\n",
              "      <td>34.060484</td>\n",
              "      <td>-8.830208</td>\n",
              "      <td>Shule Ya Msingi Chosi A</td>\n",
              "      <td>0</td>\n",
              "      <td>...</td>\n",
              "      <td>soft</td>\n",
              "      <td>good</td>\n",
              "      <td>insufficient</td>\n",
              "      <td>insufficient</td>\n",
              "      <td>river</td>\n",
              "      <td>river/lake</td>\n",
              "      <td>surface</td>\n",
              "      <td>communal standpipe</td>\n",
              "      <td>communal standpipe</td>\n",
              "      <td>non functional</td>\n",
              "    </tr>\n",
              "    <tr>\n",
              "      <th>4</th>\n",
              "      <td>1288</td>\n",
              "      <td>300.0</td>\n",
              "      <td>2011-04-05</td>\n",
              "      <td>Ki</td>\n",
              "      <td>1023</td>\n",
              "      <td>Ki</td>\n",
              "      <td>37.032690</td>\n",
              "      <td>-6.040787</td>\n",
              "      <td>Kwa Mjowe</td>\n",
              "      <td>0</td>\n",
              "      <td>...</td>\n",
              "      <td>salty</td>\n",
              "      <td>salty</td>\n",
              "      <td>enough</td>\n",
              "      <td>enough</td>\n",
              "      <td>shallow well</td>\n",
              "      <td>shallow well</td>\n",
              "      <td>groundwater</td>\n",
              "      <td>other</td>\n",
              "      <td>other</td>\n",
              "      <td>non functional</td>\n",
              "    </tr>\n",
              "    <tr>\n",
              "      <th>...</th>\n",
              "      <td>...</td>\n",
              "      <td>...</td>\n",
              "      <td>...</td>\n",
              "      <td>...</td>\n",
              "      <td>...</td>\n",
              "      <td>...</td>\n",
              "      <td>...</td>\n",
              "      <td>...</td>\n",
              "      <td>...</td>\n",
              "      <td>...</td>\n",
              "      <td>...</td>\n",
              "      <td>...</td>\n",
              "      <td>...</td>\n",
              "      <td>...</td>\n",
              "      <td>...</td>\n",
              "      <td>...</td>\n",
              "      <td>...</td>\n",
              "      <td>...</td>\n",
              "      <td>...</td>\n",
              "      <td>...</td>\n",
              "      <td>...</td>\n",
              "    </tr>\n",
              "    <tr>\n",
              "      <th>47515</th>\n",
              "      <td>68525</td>\n",
              "      <td>1000.0</td>\n",
              "      <td>2011-03-20</td>\n",
              "      <td>Dhv</td>\n",
              "      <td>327</td>\n",
              "      <td>DWE</td>\n",
              "      <td>36.367112</td>\n",
              "      <td>-8.774761</td>\n",
              "      <td>Kwa Mbayambaya</td>\n",
              "      <td>0</td>\n",
              "      <td>...</td>\n",
              "      <td>soft</td>\n",
              "      <td>good</td>\n",
              "      <td>enough</td>\n",
              "      <td>enough</td>\n",
              "      <td>river</td>\n",
              "      <td>river/lake</td>\n",
              "      <td>surface</td>\n",
              "      <td>communal standpipe</td>\n",
              "      <td>communal standpipe</td>\n",
              "      <td>functional</td>\n",
              "    </tr>\n",
              "    <tr>\n",
              "      <th>47516</th>\n",
              "      <td>11980</td>\n",
              "      <td>1000.0</td>\n",
              "      <td>2011-03-10</td>\n",
              "      <td>Danida</td>\n",
              "      <td>1743</td>\n",
              "      <td>DANID</td>\n",
              "      <td>34.531524</td>\n",
              "      <td>-9.769604</td>\n",
              "      <td>none</td>\n",
              "      <td>0</td>\n",
              "      <td>...</td>\n",
              "      <td>soft</td>\n",
              "      <td>good</td>\n",
              "      <td>seasonal</td>\n",
              "      <td>seasonal</td>\n",
              "      <td>spring</td>\n",
              "      <td>spring</td>\n",
              "      <td>groundwater</td>\n",
              "      <td>communal standpipe</td>\n",
              "      <td>communal standpipe</td>\n",
              "      <td>functional</td>\n",
              "    </tr>\n",
              "    <tr>\n",
              "      <th>47517</th>\n",
              "      <td>35778</td>\n",
              "      <td>0.0</td>\n",
              "      <td>2011-03-13</td>\n",
              "      <td>Omar Ally</td>\n",
              "      <td>-13</td>\n",
              "      <td>Omar Ally</td>\n",
              "      <td>38.974416</td>\n",
              "      <td>-5.420823</td>\n",
              "      <td>Kwa Omar Ally</td>\n",
              "      <td>0</td>\n",
              "      <td>...</td>\n",
              "      <td>soft</td>\n",
              "      <td>good</td>\n",
              "      <td>insufficient</td>\n",
              "      <td>insufficient</td>\n",
              "      <td>shallow well</td>\n",
              "      <td>shallow well</td>\n",
              "      <td>groundwater</td>\n",
              "      <td>other</td>\n",
              "      <td>other</td>\n",
              "      <td>non functional</td>\n",
              "    </tr>\n",
              "    <tr>\n",
              "      <th>47518</th>\n",
              "      <td>49444</td>\n",
              "      <td>0.0</td>\n",
              "      <td>2012-10-31</td>\n",
              "      <td>Rwssp</td>\n",
              "      <td>0</td>\n",
              "      <td>WEDECO</td>\n",
              "      <td>34.316586</td>\n",
              "      <td>-3.107161</td>\n",
              "      <td>Muungano</td>\n",
              "      <td>0</td>\n",
              "      <td>...</td>\n",
              "      <td>soft</td>\n",
              "      <td>good</td>\n",
              "      <td>enough</td>\n",
              "      <td>enough</td>\n",
              "      <td>shallow well</td>\n",
              "      <td>shallow well</td>\n",
              "      <td>groundwater</td>\n",
              "      <td>hand pump</td>\n",
              "      <td>hand pump</td>\n",
              "      <td>functional</td>\n",
              "    </tr>\n",
              "    <tr>\n",
              "      <th>47519</th>\n",
              "      <td>23812</td>\n",
              "      <td>0.0</td>\n",
              "      <td>2013-02-24</td>\n",
              "      <td>Government Of Tanzania</td>\n",
              "      <td>1290</td>\n",
              "      <td>District council</td>\n",
              "      <td>37.626401</td>\n",
              "      <td>-3.211457</td>\n",
              "      <td>Kwa Nicholaus Kimario</td>\n",
              "      <td>0</td>\n",
              "      <td>...</td>\n",
              "      <td>soft</td>\n",
              "      <td>good</td>\n",
              "      <td>enough</td>\n",
              "      <td>enough</td>\n",
              "      <td>spring</td>\n",
              "      <td>spring</td>\n",
              "      <td>groundwater</td>\n",
              "      <td>communal standpipe multiple</td>\n",
              "      <td>communal standpipe</td>\n",
              "      <td>non functional</td>\n",
              "    </tr>\n",
              "  </tbody>\n",
              "</table>\n",
              "<p>47520 rows × 41 columns</p>\n",
              "</div>"
            ],
            "text/plain": [
              "          id  amount_tsh date_recorded                  funder  gps_height  \\\n",
              "0        454        50.0    2013-02-27                    Dmdd        2092   \n",
              "1        510         0.0    2011-03-17                    Cmsr           0   \n",
              "2      14146         0.0    2011-07-10                    Kkkt           0   \n",
              "3      47410         0.0    2011-04-12                     NaN           0   \n",
              "4       1288       300.0    2011-04-05                      Ki        1023   \n",
              "...      ...         ...           ...                     ...         ...   \n",
              "47515  68525      1000.0    2011-03-20                     Dhv         327   \n",
              "47516  11980      1000.0    2011-03-10                  Danida        1743   \n",
              "47517  35778         0.0    2011-03-13               Omar Ally         -13   \n",
              "47518  49444         0.0    2012-10-31                   Rwssp           0   \n",
              "47519  23812         0.0    2013-02-24  Government Of Tanzania        1290   \n",
              "\n",
              "              installer  longitude  latitude                 wpt_name  \\\n",
              "0                  DMDD  35.426020 -4.227446                    Narmo   \n",
              "1                  Gove  35.510074 -5.724555                   Lukali   \n",
              "2                  KKKT  32.499866 -9.081222                 Mahakama   \n",
              "3                   NaN  34.060484 -8.830208  Shule Ya Msingi Chosi A   \n",
              "4                    Ki  37.032690 -6.040787                Kwa Mjowe   \n",
              "...                 ...        ...       ...                      ...   \n",
              "47515               DWE  36.367112 -8.774761           Kwa Mbayambaya   \n",
              "47516             DANID  34.531524 -9.769604                     none   \n",
              "47517         Omar Ally  38.974416 -5.420823            Kwa Omar Ally   \n",
              "47518            WEDECO  34.316586 -3.107161                 Muungano   \n",
              "47519  District council  37.626401 -3.211457    Kwa Nicholaus Kimario   \n",
              "\n",
              "       num_private  ... water_quality quality_group      quantity  \\\n",
              "0                0  ...          soft          good  insufficient   \n",
              "1                0  ...          soft          good        enough   \n",
              "2                0  ...          soft          good        enough   \n",
              "3                0  ...          soft          good  insufficient   \n",
              "4                0  ...         salty         salty        enough   \n",
              "...            ...  ...           ...           ...           ...   \n",
              "47515            0  ...          soft          good        enough   \n",
              "47516            0  ...          soft          good      seasonal   \n",
              "47517            0  ...          soft          good  insufficient   \n",
              "47518            0  ...          soft          good        enough   \n",
              "47519            0  ...          soft          good        enough   \n",
              "\n",
              "       quantity_group        source   source_type source_class  \\\n",
              "0        insufficient        spring        spring  groundwater   \n",
              "1              enough  shallow well  shallow well  groundwater   \n",
              "2              enough  shallow well  shallow well  groundwater   \n",
              "3        insufficient         river    river/lake      surface   \n",
              "4              enough  shallow well  shallow well  groundwater   \n",
              "...               ...           ...           ...          ...   \n",
              "47515          enough         river    river/lake      surface   \n",
              "47516        seasonal        spring        spring  groundwater   \n",
              "47517    insufficient  shallow well  shallow well  groundwater   \n",
              "47518          enough  shallow well  shallow well  groundwater   \n",
              "47519          enough        spring        spring  groundwater   \n",
              "\n",
              "                   waterpoint_type waterpoint_type_group    status_group  \n",
              "0               communal standpipe    communal standpipe      functional  \n",
              "1                        hand pump             hand pump      functional  \n",
              "2                            other                 other  non functional  \n",
              "3               communal standpipe    communal standpipe  non functional  \n",
              "4                            other                 other  non functional  \n",
              "...                            ...                   ...             ...  \n",
              "47515           communal standpipe    communal standpipe      functional  \n",
              "47516           communal standpipe    communal standpipe      functional  \n",
              "47517                        other                 other  non functional  \n",
              "47518                    hand pump             hand pump      functional  \n",
              "47519  communal standpipe multiple    communal standpipe  non functional  \n",
              "\n",
              "[47520 rows x 41 columns]"
            ]
          },
          "execution_count": 15,
          "metadata": {},
          "output_type": "execute_result"
        }
      ],
      "source": [
        "train = pd.merge(train_features, train_labels)\n",
        "train"
      ]
    },
    {
      "cell_type": "markdown",
      "metadata": {
        "id": "xpxcaA6yUwzP"
      },
      "source": [
        "### EDA"
      ]
    },
    {
      "cell_type": "code",
      "execution_count": 16,
      "metadata": {
        "id": "kD3Mt3Ek02zZ"
      },
      "outputs": [
        {
          "name": "stdout",
          "output_type": "stream",
          "text": [
            "<class 'pandas.core.frame.DataFrame'>\n",
            "RangeIndex: 47520 entries, 0 to 47519\n",
            "Data columns (total 41 columns):\n",
            " #   Column                 Non-Null Count  Dtype  \n",
            "---  ------                 --------------  -----  \n",
            " 0   id                     47520 non-null  int64  \n",
            " 1   amount_tsh             47520 non-null  float64\n",
            " 2   date_recorded          47520 non-null  object \n",
            " 3   funder                 44643 non-null  object \n",
            " 4   gps_height             47520 non-null  int64  \n",
            " 5   installer              44631 non-null  object \n",
            " 6   longitude              47520 non-null  float64\n",
            " 7   latitude               47520 non-null  float64\n",
            " 8   wpt_name               47519 non-null  object \n",
            " 9   num_private            47520 non-null  int64  \n",
            " 10  basin                  47520 non-null  object \n",
            " 11  subvillage             47224 non-null  object \n",
            " 12  region                 47520 non-null  object \n",
            " 13  region_code            47520 non-null  int64  \n",
            " 14  district_code          47520 non-null  int64  \n",
            " 15  lga                    47520 non-null  object \n",
            " 16  ward                   47520 non-null  object \n",
            " 17  population             47520 non-null  int64  \n",
            " 18  public_meeting         44831 non-null  object \n",
            " 19  recorded_by            47520 non-null  object \n",
            " 20  scheme_management      44417 non-null  object \n",
            " 21  scheme_name            24484 non-null  object \n",
            " 22  permit                 45081 non-null  object \n",
            " 23  construction_year      47520 non-null  int64  \n",
            " 24  extraction_type        47520 non-null  object \n",
            " 25  extraction_type_group  47520 non-null  object \n",
            " 26  extraction_type_class  47520 non-null  object \n",
            " 27  management             47520 non-null  object \n",
            " 28  management_group       47520 non-null  object \n",
            " 29  payment                47520 non-null  object \n",
            " 30  payment_type           47520 non-null  object \n",
            " 31  water_quality          47520 non-null  object \n",
            " 32  quality_group          47520 non-null  object \n",
            " 33  quantity               47520 non-null  object \n",
            " 34  quantity_group         47520 non-null  object \n",
            " 35  source                 47520 non-null  object \n",
            " 36  source_type            47520 non-null  object \n",
            " 37  source_class           47520 non-null  object \n",
            " 38  waterpoint_type        47520 non-null  object \n",
            " 39  waterpoint_type_group  47520 non-null  object \n",
            " 40  status_group           47520 non-null  object \n",
            "dtypes: float64(3), int64(7), object(31)\n",
            "memory usage: 14.9+ MB\n"
          ]
        }
      ],
      "source": [
        "train.info()"
      ]
    },
    {
      "cell_type": "code",
      "execution_count": 20,
      "metadata": {
        "id": "Sx65vlTX62ji"
      },
      "outputs": [
        {
          "data": {
            "application/vnd.jupyter.widget-view+json": {
              "model_id": "410838a4031a4759aa64eb16d17800db",
              "version_major": 2,
              "version_minor": 0
            },
            "text/plain": [
              "Summarize dataset:   0%|          | 0/5 [00:00<?, ?it/s]"
            ]
          },
          "metadata": {},
          "output_type": "display_data"
        },
        {
          "data": {
            "application/vnd.jupyter.widget-view+json": {
              "model_id": "8c54bb4c51d14bacb5c21eeca724cb93",
              "version_major": 2,
              "version_minor": 0
            },
            "text/plain": [
              "Generate report structure:   0%|          | 0/1 [00:00<?, ?it/s]"
            ]
          },
          "metadata": {},
          "output_type": "display_data"
        },
        {
          "data": {
            "application/vnd.jupyter.widget-view+json": {
              "model_id": "eeb9a0af19bd497e88592e70a9adaa90",
              "version_major": 2,
              "version_minor": 0
            },
            "text/plain": [
              "Render HTML:   0%|          | 0/1 [00:00<?, ?it/s]"
            ]
          },
          "metadata": {},
          "output_type": "display_data"
        },
        {
          "data": {
            "application/vnd.jupyter.widget-view+json": {
              "model_id": "8b4b366fab9f4e56bf5f7c3540ec3435",
              "version_major": 2,
              "version_minor": 0
            },
            "text/plain": [
              "Export report to file:   0%|          | 0/1 [00:00<?, ?it/s]"
            ]
          },
          "metadata": {},
          "output_type": "display_data"
        }
      ],
      "source": [
        "from ydata_profiling import ProfileReport\n",
        "\n",
        "report = ProfileReport(train, minimal=True)\n",
        "\n",
        "report.to_file(\"profile_report.html\")\n"
      ]
    },
    {
      "cell_type": "code",
      "execution_count": 18,
      "metadata": {
        "id": "kaSsPQqqbFkY"
      },
      "outputs": [
        {
          "ename": "FileNotFoundError",
          "evalue": "[Errno 2] No such file or directory: 'train_features.csv'",
          "output_type": "error",
          "traceback": [
            "\u001b[1;31m---------------------------------------------------------------------------\u001b[0m",
            "\u001b[1;31mFileNotFoundError\u001b[0m                         Traceback (most recent call last)",
            "Cell \u001b[1;32mIn[18], line 1\u001b[0m\n\u001b[1;32m----> 1\u001b[0m train \u001b[38;5;241m=\u001b[39m pd\u001b[38;5;241m.\u001b[39mmerge(\u001b[43mpd\u001b[49m\u001b[38;5;241;43m.\u001b[39;49m\u001b[43mread_csv\u001b[49m\u001b[43m(\u001b[49m\u001b[38;5;124;43m'\u001b[39;49m\u001b[38;5;124;43mtrain_features.csv\u001b[39;49m\u001b[38;5;124;43m'\u001b[39;49m\u001b[43m,\u001b[49m\u001b[43mna_values\u001b[49m\u001b[38;5;241;43m=\u001b[39;49m\u001b[43m[\u001b[49m\u001b[38;5;241;43m0\u001b[39;49m\u001b[43m,\u001b[49m\u001b[43m \u001b[49m\u001b[38;5;241;43m-\u001b[39;49m\u001b[38;5;241;43m2.000000e-08\u001b[39;49m\u001b[43m]\u001b[49m\u001b[43m)\u001b[49m,\n\u001b[0;32m      2\u001b[0m                  pd\u001b[38;5;241m.\u001b[39mread_csv(\u001b[38;5;124m'\u001b[39m\u001b[38;5;124mtrain_labels.csv\u001b[39m\u001b[38;5;124m'\u001b[39m))\n\u001b[0;32m      3\u001b[0m X_test \u001b[38;5;241m=\u001b[39m pd\u001b[38;5;241m.\u001b[39mread_csv(\u001b[38;5;124m'\u001b[39m\u001b[38;5;124mtest_features.csv\u001b[39m\u001b[38;5;124m'\u001b[39m, na_values\u001b[38;5;241m=\u001b[39m[\u001b[38;5;241m0\u001b[39m, \u001b[38;5;241m-\u001b[39m\u001b[38;5;241m2.000000e-08\u001b[39m])\n\u001b[0;32m      5\u001b[0m \u001b[38;5;28;01mdef\u001b[39;00m \u001b[38;5;21mwrangle\u001b[39m(df):\n\u001b[0;32m      6\u001b[0m \n\u001b[0;32m      7\u001b[0m   \u001b[38;5;66;03m# Set the index to 'id'\u001b[39;00m\n",
            "File \u001b[1;32mc:\\Users\\ISHMO_CT\\.conda\\envs\\Kaggle_proj\\Lib\\site-packages\\pandas\\io\\parsers\\readers.py:948\u001b[0m, in \u001b[0;36mread_csv\u001b[1;34m(filepath_or_buffer, sep, delimiter, header, names, index_col, usecols, dtype, engine, converters, true_values, false_values, skipinitialspace, skiprows, skipfooter, nrows, na_values, keep_default_na, na_filter, verbose, skip_blank_lines, parse_dates, infer_datetime_format, keep_date_col, date_parser, date_format, dayfirst, cache_dates, iterator, chunksize, compression, thousands, decimal, lineterminator, quotechar, quoting, doublequote, escapechar, comment, encoding, encoding_errors, dialect, on_bad_lines, delim_whitespace, low_memory, memory_map, float_precision, storage_options, dtype_backend)\u001b[0m\n\u001b[0;32m    935\u001b[0m kwds_defaults \u001b[38;5;241m=\u001b[39m _refine_defaults_read(\n\u001b[0;32m    936\u001b[0m     dialect,\n\u001b[0;32m    937\u001b[0m     delimiter,\n\u001b[1;32m   (...)\u001b[0m\n\u001b[0;32m    944\u001b[0m     dtype_backend\u001b[38;5;241m=\u001b[39mdtype_backend,\n\u001b[0;32m    945\u001b[0m )\n\u001b[0;32m    946\u001b[0m kwds\u001b[38;5;241m.\u001b[39mupdate(kwds_defaults)\n\u001b[1;32m--> 948\u001b[0m \u001b[38;5;28;01mreturn\u001b[39;00m \u001b[43m_read\u001b[49m\u001b[43m(\u001b[49m\u001b[43mfilepath_or_buffer\u001b[49m\u001b[43m,\u001b[49m\u001b[43m \u001b[49m\u001b[43mkwds\u001b[49m\u001b[43m)\u001b[49m\n",
            "File \u001b[1;32mc:\\Users\\ISHMO_CT\\.conda\\envs\\Kaggle_proj\\Lib\\site-packages\\pandas\\io\\parsers\\readers.py:611\u001b[0m, in \u001b[0;36m_read\u001b[1;34m(filepath_or_buffer, kwds)\u001b[0m\n\u001b[0;32m    608\u001b[0m _validate_names(kwds\u001b[38;5;241m.\u001b[39mget(\u001b[38;5;124m\"\u001b[39m\u001b[38;5;124mnames\u001b[39m\u001b[38;5;124m\"\u001b[39m, \u001b[38;5;28;01mNone\u001b[39;00m))\n\u001b[0;32m    610\u001b[0m \u001b[38;5;66;03m# Create the parser.\u001b[39;00m\n\u001b[1;32m--> 611\u001b[0m parser \u001b[38;5;241m=\u001b[39m \u001b[43mTextFileReader\u001b[49m\u001b[43m(\u001b[49m\u001b[43mfilepath_or_buffer\u001b[49m\u001b[43m,\u001b[49m\u001b[43m \u001b[49m\u001b[38;5;241;43m*\u001b[39;49m\u001b[38;5;241;43m*\u001b[39;49m\u001b[43mkwds\u001b[49m\u001b[43m)\u001b[49m\n\u001b[0;32m    613\u001b[0m \u001b[38;5;28;01mif\u001b[39;00m chunksize \u001b[38;5;129;01mor\u001b[39;00m iterator:\n\u001b[0;32m    614\u001b[0m     \u001b[38;5;28;01mreturn\u001b[39;00m parser\n",
            "File \u001b[1;32mc:\\Users\\ISHMO_CT\\.conda\\envs\\Kaggle_proj\\Lib\\site-packages\\pandas\\io\\parsers\\readers.py:1448\u001b[0m, in \u001b[0;36mTextFileReader.__init__\u001b[1;34m(self, f, engine, **kwds)\u001b[0m\n\u001b[0;32m   1445\u001b[0m     \u001b[38;5;28mself\u001b[39m\u001b[38;5;241m.\u001b[39moptions[\u001b[38;5;124m\"\u001b[39m\u001b[38;5;124mhas_index_names\u001b[39m\u001b[38;5;124m\"\u001b[39m] \u001b[38;5;241m=\u001b[39m kwds[\u001b[38;5;124m\"\u001b[39m\u001b[38;5;124mhas_index_names\u001b[39m\u001b[38;5;124m\"\u001b[39m]\n\u001b[0;32m   1447\u001b[0m \u001b[38;5;28mself\u001b[39m\u001b[38;5;241m.\u001b[39mhandles: IOHandles \u001b[38;5;241m|\u001b[39m \u001b[38;5;28;01mNone\u001b[39;00m \u001b[38;5;241m=\u001b[39m \u001b[38;5;28;01mNone\u001b[39;00m\n\u001b[1;32m-> 1448\u001b[0m \u001b[38;5;28mself\u001b[39m\u001b[38;5;241m.\u001b[39m_engine \u001b[38;5;241m=\u001b[39m \u001b[38;5;28;43mself\u001b[39;49m\u001b[38;5;241;43m.\u001b[39;49m\u001b[43m_make_engine\u001b[49m\u001b[43m(\u001b[49m\u001b[43mf\u001b[49m\u001b[43m,\u001b[49m\u001b[43m \u001b[49m\u001b[38;5;28;43mself\u001b[39;49m\u001b[38;5;241;43m.\u001b[39;49m\u001b[43mengine\u001b[49m\u001b[43m)\u001b[49m\n",
            "File \u001b[1;32mc:\\Users\\ISHMO_CT\\.conda\\envs\\Kaggle_proj\\Lib\\site-packages\\pandas\\io\\parsers\\readers.py:1705\u001b[0m, in \u001b[0;36mTextFileReader._make_engine\u001b[1;34m(self, f, engine)\u001b[0m\n\u001b[0;32m   1703\u001b[0m     \u001b[38;5;28;01mif\u001b[39;00m \u001b[38;5;124m\"\u001b[39m\u001b[38;5;124mb\u001b[39m\u001b[38;5;124m\"\u001b[39m \u001b[38;5;129;01mnot\u001b[39;00m \u001b[38;5;129;01min\u001b[39;00m mode:\n\u001b[0;32m   1704\u001b[0m         mode \u001b[38;5;241m+\u001b[39m\u001b[38;5;241m=\u001b[39m \u001b[38;5;124m\"\u001b[39m\u001b[38;5;124mb\u001b[39m\u001b[38;5;124m\"\u001b[39m\n\u001b[1;32m-> 1705\u001b[0m \u001b[38;5;28mself\u001b[39m\u001b[38;5;241m.\u001b[39mhandles \u001b[38;5;241m=\u001b[39m \u001b[43mget_handle\u001b[49m\u001b[43m(\u001b[49m\n\u001b[0;32m   1706\u001b[0m \u001b[43m    \u001b[49m\u001b[43mf\u001b[49m\u001b[43m,\u001b[49m\n\u001b[0;32m   1707\u001b[0m \u001b[43m    \u001b[49m\u001b[43mmode\u001b[49m\u001b[43m,\u001b[49m\n\u001b[0;32m   1708\u001b[0m \u001b[43m    \u001b[49m\u001b[43mencoding\u001b[49m\u001b[38;5;241;43m=\u001b[39;49m\u001b[38;5;28;43mself\u001b[39;49m\u001b[38;5;241;43m.\u001b[39;49m\u001b[43moptions\u001b[49m\u001b[38;5;241;43m.\u001b[39;49m\u001b[43mget\u001b[49m\u001b[43m(\u001b[49m\u001b[38;5;124;43m\"\u001b[39;49m\u001b[38;5;124;43mencoding\u001b[39;49m\u001b[38;5;124;43m\"\u001b[39;49m\u001b[43m,\u001b[49m\u001b[43m \u001b[49m\u001b[38;5;28;43;01mNone\u001b[39;49;00m\u001b[43m)\u001b[49m\u001b[43m,\u001b[49m\n\u001b[0;32m   1709\u001b[0m \u001b[43m    \u001b[49m\u001b[43mcompression\u001b[49m\u001b[38;5;241;43m=\u001b[39;49m\u001b[38;5;28;43mself\u001b[39;49m\u001b[38;5;241;43m.\u001b[39;49m\u001b[43moptions\u001b[49m\u001b[38;5;241;43m.\u001b[39;49m\u001b[43mget\u001b[49m\u001b[43m(\u001b[49m\u001b[38;5;124;43m\"\u001b[39;49m\u001b[38;5;124;43mcompression\u001b[39;49m\u001b[38;5;124;43m\"\u001b[39;49m\u001b[43m,\u001b[49m\u001b[43m \u001b[49m\u001b[38;5;28;43;01mNone\u001b[39;49;00m\u001b[43m)\u001b[49m\u001b[43m,\u001b[49m\n\u001b[0;32m   1710\u001b[0m \u001b[43m    \u001b[49m\u001b[43mmemory_map\u001b[49m\u001b[38;5;241;43m=\u001b[39;49m\u001b[38;5;28;43mself\u001b[39;49m\u001b[38;5;241;43m.\u001b[39;49m\u001b[43moptions\u001b[49m\u001b[38;5;241;43m.\u001b[39;49m\u001b[43mget\u001b[49m\u001b[43m(\u001b[49m\u001b[38;5;124;43m\"\u001b[39;49m\u001b[38;5;124;43mmemory_map\u001b[39;49m\u001b[38;5;124;43m\"\u001b[39;49m\u001b[43m,\u001b[49m\u001b[43m \u001b[49m\u001b[38;5;28;43;01mFalse\u001b[39;49;00m\u001b[43m)\u001b[49m\u001b[43m,\u001b[49m\n\u001b[0;32m   1711\u001b[0m \u001b[43m    \u001b[49m\u001b[43mis_text\u001b[49m\u001b[38;5;241;43m=\u001b[39;49m\u001b[43mis_text\u001b[49m\u001b[43m,\u001b[49m\n\u001b[0;32m   1712\u001b[0m \u001b[43m    \u001b[49m\u001b[43merrors\u001b[49m\u001b[38;5;241;43m=\u001b[39;49m\u001b[38;5;28;43mself\u001b[39;49m\u001b[38;5;241;43m.\u001b[39;49m\u001b[43moptions\u001b[49m\u001b[38;5;241;43m.\u001b[39;49m\u001b[43mget\u001b[49m\u001b[43m(\u001b[49m\u001b[38;5;124;43m\"\u001b[39;49m\u001b[38;5;124;43mencoding_errors\u001b[39;49m\u001b[38;5;124;43m\"\u001b[39;49m\u001b[43m,\u001b[49m\u001b[43m \u001b[49m\u001b[38;5;124;43m\"\u001b[39;49m\u001b[38;5;124;43mstrict\u001b[39;49m\u001b[38;5;124;43m\"\u001b[39;49m\u001b[43m)\u001b[49m\u001b[43m,\u001b[49m\n\u001b[0;32m   1713\u001b[0m \u001b[43m    \u001b[49m\u001b[43mstorage_options\u001b[49m\u001b[38;5;241;43m=\u001b[39;49m\u001b[38;5;28;43mself\u001b[39;49m\u001b[38;5;241;43m.\u001b[39;49m\u001b[43moptions\u001b[49m\u001b[38;5;241;43m.\u001b[39;49m\u001b[43mget\u001b[49m\u001b[43m(\u001b[49m\u001b[38;5;124;43m\"\u001b[39;49m\u001b[38;5;124;43mstorage_options\u001b[39;49m\u001b[38;5;124;43m\"\u001b[39;49m\u001b[43m,\u001b[49m\u001b[43m \u001b[49m\u001b[38;5;28;43;01mNone\u001b[39;49;00m\u001b[43m)\u001b[49m\u001b[43m,\u001b[49m\n\u001b[0;32m   1714\u001b[0m \u001b[43m\u001b[49m\u001b[43m)\u001b[49m\n\u001b[0;32m   1715\u001b[0m \u001b[38;5;28;01massert\u001b[39;00m \u001b[38;5;28mself\u001b[39m\u001b[38;5;241m.\u001b[39mhandles \u001b[38;5;129;01mis\u001b[39;00m \u001b[38;5;129;01mnot\u001b[39;00m \u001b[38;5;28;01mNone\u001b[39;00m\n\u001b[0;32m   1716\u001b[0m f \u001b[38;5;241m=\u001b[39m \u001b[38;5;28mself\u001b[39m\u001b[38;5;241m.\u001b[39mhandles\u001b[38;5;241m.\u001b[39mhandle\n",
            "File \u001b[1;32mc:\\Users\\ISHMO_CT\\.conda\\envs\\Kaggle_proj\\Lib\\site-packages\\pandas\\io\\common.py:863\u001b[0m, in \u001b[0;36mget_handle\u001b[1;34m(path_or_buf, mode, encoding, compression, memory_map, is_text, errors, storage_options)\u001b[0m\n\u001b[0;32m    858\u001b[0m \u001b[38;5;28;01melif\u001b[39;00m \u001b[38;5;28misinstance\u001b[39m(handle, \u001b[38;5;28mstr\u001b[39m):\n\u001b[0;32m    859\u001b[0m     \u001b[38;5;66;03m# Check whether the filename is to be opened in binary mode.\u001b[39;00m\n\u001b[0;32m    860\u001b[0m     \u001b[38;5;66;03m# Binary mode does not support 'encoding' and 'newline'.\u001b[39;00m\n\u001b[0;32m    861\u001b[0m     \u001b[38;5;28;01mif\u001b[39;00m ioargs\u001b[38;5;241m.\u001b[39mencoding \u001b[38;5;129;01mand\u001b[39;00m \u001b[38;5;124m\"\u001b[39m\u001b[38;5;124mb\u001b[39m\u001b[38;5;124m\"\u001b[39m \u001b[38;5;129;01mnot\u001b[39;00m \u001b[38;5;129;01min\u001b[39;00m ioargs\u001b[38;5;241m.\u001b[39mmode:\n\u001b[0;32m    862\u001b[0m         \u001b[38;5;66;03m# Encoding\u001b[39;00m\n\u001b[1;32m--> 863\u001b[0m         handle \u001b[38;5;241m=\u001b[39m \u001b[38;5;28;43mopen\u001b[39;49m\u001b[43m(\u001b[49m\n\u001b[0;32m    864\u001b[0m \u001b[43m            \u001b[49m\u001b[43mhandle\u001b[49m\u001b[43m,\u001b[49m\n\u001b[0;32m    865\u001b[0m \u001b[43m            \u001b[49m\u001b[43mioargs\u001b[49m\u001b[38;5;241;43m.\u001b[39;49m\u001b[43mmode\u001b[49m\u001b[43m,\u001b[49m\n\u001b[0;32m    866\u001b[0m \u001b[43m            \u001b[49m\u001b[43mencoding\u001b[49m\u001b[38;5;241;43m=\u001b[39;49m\u001b[43mioargs\u001b[49m\u001b[38;5;241;43m.\u001b[39;49m\u001b[43mencoding\u001b[49m\u001b[43m,\u001b[49m\n\u001b[0;32m    867\u001b[0m \u001b[43m            \u001b[49m\u001b[43merrors\u001b[49m\u001b[38;5;241;43m=\u001b[39;49m\u001b[43merrors\u001b[49m\u001b[43m,\u001b[49m\n\u001b[0;32m    868\u001b[0m \u001b[43m            \u001b[49m\u001b[43mnewline\u001b[49m\u001b[38;5;241;43m=\u001b[39;49m\u001b[38;5;124;43m\"\u001b[39;49m\u001b[38;5;124;43m\"\u001b[39;49m\u001b[43m,\u001b[49m\n\u001b[0;32m    869\u001b[0m \u001b[43m        \u001b[49m\u001b[43m)\u001b[49m\n\u001b[0;32m    870\u001b[0m     \u001b[38;5;28;01melse\u001b[39;00m:\n\u001b[0;32m    871\u001b[0m         \u001b[38;5;66;03m# Binary mode\u001b[39;00m\n\u001b[0;32m    872\u001b[0m         handle \u001b[38;5;241m=\u001b[39m \u001b[38;5;28mopen\u001b[39m(handle, ioargs\u001b[38;5;241m.\u001b[39mmode)\n",
            "\u001b[1;31mFileNotFoundError\u001b[0m: [Errno 2] No such file or directory: 'train_features.csv'"
          ]
        }
      ],
      "source": [
        "train = pd.merge(pd.read_csv('train_features.csv',na_values=[0, -2.000000e-08]),\n",
        "                 pd.read_csv('train_labels.csv'))\n",
        "X_test = pd.read_csv('test_features.csv', na_values=[0, -2.000000e-08])\n",
        "\n",
        "def wrangle(df):\n",
        "\n",
        "  # Set the index to 'id'\n",
        "  df.set_index('id', inplace=True)\n",
        "\n",
        "  # Drop Constant Column\n",
        "  df.drop(columns='recorded_by', inplace=True)\n",
        "\n",
        "  # Drop Duplicate Column\n",
        "  #df.drop(columns=, inplace=True)\n",
        "\n",
        "  # Drop High Cardinality Columns\n",
        "  threshold = 100\n",
        "  cols_to_drop = [col for col in df.select_dtypes('object') if df[col].nunique() > threshold]\n",
        "  df.drop(columns=cols_to_drop, inplace=True)\n",
        "\n",
        "  # Drop columns with high proportion of zeros\n",
        "  df.drop(columns='num_private', inplace=True)\n",
        "\n",
        "  return df\n",
        "\n",
        "train = wrangle(train)\n",
        "X_test = wrangle(test_features)\n"
      ]
    },
    {
      "cell_type": "code",
      "execution_count": null,
      "metadata": {
        "id": "rExNTtaSwCri"
      },
      "outputs": [
        {
          "data": {
            "image/png": "[encoded data removed]",
            "text/plain": [
              "<Figure size 800x550 with 1 Axes>"
            ]
          },
          "metadata": {},
          "output_type": "display_data"
        }
      ],
      "source": [
        "# null island!\n",
        "# bunch of data coordinates at 0,0\n",
        "%matplotlib inline\n",
        "import matplotlib.pyplot as plt\n",
        "plt.scatter(train['longitude'], train['latitude'])\n",
        "plt.show()"
      ]
    },
    {
      "cell_type": "code",
      "execution_count": null,
      "metadata": {
        "id": "XGJexjFXwCo_"
      },
      "outputs": [
        {
          "data": {
            "text/html": [
              "<div>\n",
              "<style scoped>\n",
              "    .dataframe tbody tr th:only-of-type {\n",
              "        vertical-align: middle;\n",
              "    }\n",
              "\n",
              "    .dataframe tbody tr th {\n",
              "        vertical-align: top;\n",
              "    }\n",
              "\n",
              "    .dataframe thead th {\n",
              "        text-align: right;\n",
              "    }\n",
              "</style>\n",
              "<table border=\"1\" class=\"dataframe\">\n",
              "  <thead>\n",
              "    <tr style=\"text-align: right;\">\n",
              "      <th></th>\n",
              "      <th>amount_tsh</th>\n",
              "      <th>gps_height</th>\n",
              "      <th>longitude</th>\n",
              "      <th>latitude</th>\n",
              "      <th>basin</th>\n",
              "      <th>region</th>\n",
              "      <th>region_code</th>\n",
              "      <th>district_code</th>\n",
              "      <th>population</th>\n",
              "      <th>public_meeting</th>\n",
              "      <th>...</th>\n",
              "      <th>water_quality</th>\n",
              "      <th>quality_group</th>\n",
              "      <th>quantity</th>\n",
              "      <th>quantity_group</th>\n",
              "      <th>source</th>\n",
              "      <th>source_type</th>\n",
              "      <th>source_class</th>\n",
              "      <th>waterpoint_type</th>\n",
              "      <th>waterpoint_type_group</th>\n",
              "      <th>status_group</th>\n",
              "    </tr>\n",
              "    <tr>\n",
              "      <th>id</th>\n",
              "      <th></th>\n",
              "      <th></th>\n",
              "      <th></th>\n",
              "      <th></th>\n",
              "      <th></th>\n",
              "      <th></th>\n",
              "      <th></th>\n",
              "      <th></th>\n",
              "      <th></th>\n",
              "      <th></th>\n",
              "      <th></th>\n",
              "      <th></th>\n",
              "      <th></th>\n",
              "      <th></th>\n",
              "      <th></th>\n",
              "      <th></th>\n",
              "      <th></th>\n",
              "      <th></th>\n",
              "      <th></th>\n",
              "      <th></th>\n",
              "      <th></th>\n",
              "    </tr>\n",
              "  </thead>\n",
              "  <tbody>\n",
              "  </tbody>\n",
              "</table>\n",
              "<p>0 rows × 30 columns</p>\n",
              "</div>"
            ],
            "text/plain": [
              "Empty DataFrame\n",
              "Columns: [amount_tsh, gps_height, longitude, latitude, basin, region, region_code, district_code, population, public_meeting, scheme_management, permit, construction_year, extraction_type, extraction_type_group, extraction_type_class, management, management_group, payment, payment_type, water_quality, quality_group, quantity, quantity_group, source, source_type, source_class, waterpoint_type, waterpoint_type_group, status_group]\n",
              "Index: []\n",
              "\n",
              "[0 rows x 30 columns]"
            ]
          },
          "execution_count": 53,
          "metadata": {},
          "output_type": "execute_result"
        }
      ],
      "source": [
        "train[train['latitude'] == 0]"
      ]
    },
    {
      "cell_type": "code",
      "execution_count": null,
      "metadata": {
        "id": "OQsjJnHNIFwC"
      },
      "outputs": [
        {
          "data": {
            "text/html": [
              "<div>\n",
              "<style scoped>\n",
              "    .dataframe tbody tr th:only-of-type {\n",
              "        vertical-align: middle;\n",
              "    }\n",
              "\n",
              "    .dataframe tbody tr th {\n",
              "        vertical-align: top;\n",
              "    }\n",
              "\n",
              "    .dataframe thead th {\n",
              "        text-align: right;\n",
              "    }\n",
              "</style>\n",
              "<table border=\"1\" class=\"dataframe\">\n",
              "  <thead>\n",
              "    <tr style=\"text-align: right;\">\n",
              "      <th></th>\n",
              "      <th>amount_tsh</th>\n",
              "      <th>gps_height</th>\n",
              "      <th>longitude</th>\n",
              "      <th>latitude</th>\n",
              "      <th>basin</th>\n",
              "      <th>region</th>\n",
              "      <th>region_code</th>\n",
              "      <th>district_code</th>\n",
              "      <th>population</th>\n",
              "      <th>public_meeting</th>\n",
              "      <th>...</th>\n",
              "      <th>water_quality</th>\n",
              "      <th>quality_group</th>\n",
              "      <th>quantity</th>\n",
              "      <th>quantity_group</th>\n",
              "      <th>source</th>\n",
              "      <th>source_type</th>\n",
              "      <th>source_class</th>\n",
              "      <th>waterpoint_type</th>\n",
              "      <th>waterpoint_type_group</th>\n",
              "      <th>status_group</th>\n",
              "    </tr>\n",
              "    <tr>\n",
              "      <th>id</th>\n",
              "      <th></th>\n",
              "      <th></th>\n",
              "      <th></th>\n",
              "      <th></th>\n",
              "      <th></th>\n",
              "      <th></th>\n",
              "      <th></th>\n",
              "      <th></th>\n",
              "      <th></th>\n",
              "      <th></th>\n",
              "      <th></th>\n",
              "      <th></th>\n",
              "      <th></th>\n",
              "      <th></th>\n",
              "      <th></th>\n",
              "      <th></th>\n",
              "      <th></th>\n",
              "      <th></th>\n",
              "      <th></th>\n",
              "      <th></th>\n",
              "      <th></th>\n",
              "    </tr>\n",
              "  </thead>\n",
              "  <tbody>\n",
              "    <tr>\n",
              "      <th>18191</th>\n",
              "      <td>0.0</td>\n",
              "      <td>0</td>\n",
              "      <td>0.0</td>\n",
              "      <td>-2.000000e-08</td>\n",
              "      <td>Lake Victoria</td>\n",
              "      <td>Shinyanga</td>\n",
              "      <td>17</td>\n",
              "      <td>1</td>\n",
              "      <td>0</td>\n",
              "      <td>True</td>\n",
              "      <td>...</td>\n",
              "      <td>soft</td>\n",
              "      <td>good</td>\n",
              "      <td>insufficient</td>\n",
              "      <td>insufficient</td>\n",
              "      <td>shallow well</td>\n",
              "      <td>shallow well</td>\n",
              "      <td>groundwater</td>\n",
              "      <td>hand pump</td>\n",
              "      <td>hand pump</td>\n",
              "      <td>functional needs repair</td>\n",
              "    </tr>\n",
              "    <tr>\n",
              "      <th>59340</th>\n",
              "      <td>0.0</td>\n",
              "      <td>0</td>\n",
              "      <td>0.0</td>\n",
              "      <td>-2.000000e-08</td>\n",
              "      <td>Lake Victoria</td>\n",
              "      <td>Shinyanga</td>\n",
              "      <td>17</td>\n",
              "      <td>1</td>\n",
              "      <td>0</td>\n",
              "      <td>True</td>\n",
              "      <td>...</td>\n",
              "      <td>soft</td>\n",
              "      <td>good</td>\n",
              "      <td>enough</td>\n",
              "      <td>enough</td>\n",
              "      <td>shallow well</td>\n",
              "      <td>shallow well</td>\n",
              "      <td>groundwater</td>\n",
              "      <td>hand pump</td>\n",
              "      <td>hand pump</td>\n",
              "      <td>functional</td>\n",
              "    </tr>\n",
              "    <tr>\n",
              "      <th>9535</th>\n",
              "      <td>0.0</td>\n",
              "      <td>0</td>\n",
              "      <td>0.0</td>\n",
              "      <td>-2.000000e-08</td>\n",
              "      <td>Lake Victoria</td>\n",
              "      <td>Shinyanga</td>\n",
              "      <td>17</td>\n",
              "      <td>1</td>\n",
              "      <td>0</td>\n",
              "      <td>NaN</td>\n",
              "      <td>...</td>\n",
              "      <td>unknown</td>\n",
              "      <td>unknown</td>\n",
              "      <td>enough</td>\n",
              "      <td>enough</td>\n",
              "      <td>shallow well</td>\n",
              "      <td>shallow well</td>\n",
              "      <td>groundwater</td>\n",
              "      <td>hand pump</td>\n",
              "      <td>hand pump</td>\n",
              "      <td>functional</td>\n",
              "    </tr>\n",
              "    <tr>\n",
              "      <th>35395</th>\n",
              "      <td>0.0</td>\n",
              "      <td>0</td>\n",
              "      <td>0.0</td>\n",
              "      <td>-2.000000e-08</td>\n",
              "      <td>Lake Victoria</td>\n",
              "      <td>Shinyanga</td>\n",
              "      <td>17</td>\n",
              "      <td>1</td>\n",
              "      <td>0</td>\n",
              "      <td>NaN</td>\n",
              "      <td>...</td>\n",
              "      <td>soft</td>\n",
              "      <td>good</td>\n",
              "      <td>enough</td>\n",
              "      <td>enough</td>\n",
              "      <td>shallow well</td>\n",
              "      <td>shallow well</td>\n",
              "      <td>groundwater</td>\n",
              "      <td>hand pump</td>\n",
              "      <td>hand pump</td>\n",
              "      <td>functional</td>\n",
              "    </tr>\n",
              "    <tr>\n",
              "      <th>56429</th>\n",
              "      <td>0.0</td>\n",
              "      <td>0</td>\n",
              "      <td>0.0</td>\n",
              "      <td>-2.000000e-08</td>\n",
              "      <td>Lake Victoria</td>\n",
              "      <td>Shinyanga</td>\n",
              "      <td>17</td>\n",
              "      <td>1</td>\n",
              "      <td>0</td>\n",
              "      <td>True</td>\n",
              "      <td>...</td>\n",
              "      <td>soft</td>\n",
              "      <td>good</td>\n",
              "      <td>seasonal</td>\n",
              "      <td>seasonal</td>\n",
              "      <td>rainwater harvesting</td>\n",
              "      <td>rainwater harvesting</td>\n",
              "      <td>surface</td>\n",
              "      <td>communal standpipe</td>\n",
              "      <td>communal standpipe</td>\n",
              "      <td>functional</td>\n",
              "    </tr>\n",
              "    <tr>\n",
              "      <th>...</th>\n",
              "      <td>...</td>\n",
              "      <td>...</td>\n",
              "      <td>...</td>\n",
              "      <td>...</td>\n",
              "      <td>...</td>\n",
              "      <td>...</td>\n",
              "      <td>...</td>\n",
              "      <td>...</td>\n",
              "      <td>...</td>\n",
              "      <td>...</td>\n",
              "      <td>...</td>\n",
              "      <td>...</td>\n",
              "      <td>...</td>\n",
              "      <td>...</td>\n",
              "      <td>...</td>\n",
              "      <td>...</td>\n",
              "      <td>...</td>\n",
              "      <td>...</td>\n",
              "      <td>...</td>\n",
              "      <td>...</td>\n",
              "      <td>...</td>\n",
              "    </tr>\n",
              "    <tr>\n",
              "      <th>30428</th>\n",
              "      <td>0.0</td>\n",
              "      <td>0</td>\n",
              "      <td>0.0</td>\n",
              "      <td>-2.000000e-08</td>\n",
              "      <td>Lake Victoria</td>\n",
              "      <td>Shinyanga</td>\n",
              "      <td>17</td>\n",
              "      <td>1</td>\n",
              "      <td>0</td>\n",
              "      <td>NaN</td>\n",
              "      <td>...</td>\n",
              "      <td>soft</td>\n",
              "      <td>good</td>\n",
              "      <td>enough</td>\n",
              "      <td>enough</td>\n",
              "      <td>shallow well</td>\n",
              "      <td>shallow well</td>\n",
              "      <td>groundwater</td>\n",
              "      <td>hand pump</td>\n",
              "      <td>hand pump</td>\n",
              "      <td>functional</td>\n",
              "    </tr>\n",
              "    <tr>\n",
              "      <th>60259</th>\n",
              "      <td>0.0</td>\n",
              "      <td>0</td>\n",
              "      <td>0.0</td>\n",
              "      <td>-2.000000e-08</td>\n",
              "      <td>Lake Victoria</td>\n",
              "      <td>Mwanza</td>\n",
              "      <td>19</td>\n",
              "      <td>6</td>\n",
              "      <td>0</td>\n",
              "      <td>True</td>\n",
              "      <td>...</td>\n",
              "      <td>soft</td>\n",
              "      <td>good</td>\n",
              "      <td>insufficient</td>\n",
              "      <td>insufficient</td>\n",
              "      <td>shallow well</td>\n",
              "      <td>shallow well</td>\n",
              "      <td>groundwater</td>\n",
              "      <td>hand pump</td>\n",
              "      <td>hand pump</td>\n",
              "      <td>functional</td>\n",
              "    </tr>\n",
              "    <tr>\n",
              "      <th>55213</th>\n",
              "      <td>0.0</td>\n",
              "      <td>0</td>\n",
              "      <td>0.0</td>\n",
              "      <td>-2.000000e-08</td>\n",
              "      <td>Lake Victoria</td>\n",
              "      <td>Mwanza</td>\n",
              "      <td>19</td>\n",
              "      <td>2</td>\n",
              "      <td>0</td>\n",
              "      <td>True</td>\n",
              "      <td>...</td>\n",
              "      <td>soft</td>\n",
              "      <td>good</td>\n",
              "      <td>enough</td>\n",
              "      <td>enough</td>\n",
              "      <td>shallow well</td>\n",
              "      <td>shallow well</td>\n",
              "      <td>groundwater</td>\n",
              "      <td>hand pump</td>\n",
              "      <td>hand pump</td>\n",
              "      <td>non functional</td>\n",
              "    </tr>\n",
              "    <tr>\n",
              "      <th>30192</th>\n",
              "      <td>0.0</td>\n",
              "      <td>0</td>\n",
              "      <td>0.0</td>\n",
              "      <td>-2.000000e-08</td>\n",
              "      <td>Lake Tanganyika</td>\n",
              "      <td>Mwanza</td>\n",
              "      <td>19</td>\n",
              "      <td>6</td>\n",
              "      <td>0</td>\n",
              "      <td>True</td>\n",
              "      <td>...</td>\n",
              "      <td>soft</td>\n",
              "      <td>good</td>\n",
              "      <td>insufficient</td>\n",
              "      <td>insufficient</td>\n",
              "      <td>shallow well</td>\n",
              "      <td>shallow well</td>\n",
              "      <td>groundwater</td>\n",
              "      <td>hand pump</td>\n",
              "      <td>hand pump</td>\n",
              "      <td>functional</td>\n",
              "    </tr>\n",
              "    <tr>\n",
              "      <th>3854</th>\n",
              "      <td>0.0</td>\n",
              "      <td>0</td>\n",
              "      <td>0.0</td>\n",
              "      <td>-2.000000e-08</td>\n",
              "      <td>Lake Victoria</td>\n",
              "      <td>Mwanza</td>\n",
              "      <td>17</td>\n",
              "      <td>1</td>\n",
              "      <td>0</td>\n",
              "      <td>NaN</td>\n",
              "      <td>...</td>\n",
              "      <td>soft</td>\n",
              "      <td>good</td>\n",
              "      <td>enough</td>\n",
              "      <td>enough</td>\n",
              "      <td>shallow well</td>\n",
              "      <td>shallow well</td>\n",
              "      <td>groundwater</td>\n",
              "      <td>hand pump</td>\n",
              "      <td>hand pump</td>\n",
              "      <td>non functional</td>\n",
              "    </tr>\n",
              "  </tbody>\n",
              "</table>\n",
              "<p>1433 rows × 30 columns</p>\n",
              "</div>"
            ],
            "text/plain": [
              "       amount_tsh  gps_height  longitude      latitude            basin  \\\n",
              "id                                                                        \n",
              "18191         0.0           0        0.0 -2.000000e-08    Lake Victoria   \n",
              "59340         0.0           0        0.0 -2.000000e-08    Lake Victoria   \n",
              "9535          0.0           0        0.0 -2.000000e-08    Lake Victoria   \n",
              "35395         0.0           0        0.0 -2.000000e-08    Lake Victoria   \n",
              "56429         0.0           0        0.0 -2.000000e-08    Lake Victoria   \n",
              "...           ...         ...        ...           ...              ...   \n",
              "30428         0.0           0        0.0 -2.000000e-08    Lake Victoria   \n",
              "60259         0.0           0        0.0 -2.000000e-08    Lake Victoria   \n",
              "55213         0.0           0        0.0 -2.000000e-08    Lake Victoria   \n",
              "30192         0.0           0        0.0 -2.000000e-08  Lake Tanganyika   \n",
              "3854          0.0           0        0.0 -2.000000e-08    Lake Victoria   \n",
              "\n",
              "          region  region_code  district_code  population public_meeting  ...  \\\n",
              "id                                                                       ...   \n",
              "18191  Shinyanga           17              1           0           True  ...   \n",
              "59340  Shinyanga           17              1           0           True  ...   \n",
              "9535   Shinyanga           17              1           0            NaN  ...   \n",
              "35395  Shinyanga           17              1           0            NaN  ...   \n",
              "56429  Shinyanga           17              1           0           True  ...   \n",
              "...          ...          ...            ...         ...            ...  ...   \n",
              "30428  Shinyanga           17              1           0            NaN  ...   \n",
              "60259     Mwanza           19              6           0           True  ...   \n",
              "55213     Mwanza           19              2           0           True  ...   \n",
              "30192     Mwanza           19              6           0           True  ...   \n",
              "3854      Mwanza           17              1           0            NaN  ...   \n",
              "\n",
              "      water_quality quality_group      quantity quantity_group  \\\n",
              "id                                                               \n",
              "18191          soft          good  insufficient   insufficient   \n",
              "59340          soft          good        enough         enough   \n",
              "9535        unknown       unknown        enough         enough   \n",
              "35395          soft          good        enough         enough   \n",
              "56429          soft          good      seasonal       seasonal   \n",
              "...             ...           ...           ...            ...   \n",
              "30428          soft          good        enough         enough   \n",
              "60259          soft          good  insufficient   insufficient   \n",
              "55213          soft          good        enough         enough   \n",
              "30192          soft          good  insufficient   insufficient   \n",
              "3854           soft          good        enough         enough   \n",
              "\n",
              "                     source           source_type source_class  \\\n",
              "id                                                               \n",
              "18191          shallow well          shallow well  groundwater   \n",
              "59340          shallow well          shallow well  groundwater   \n",
              "9535           shallow well          shallow well  groundwater   \n",
              "35395          shallow well          shallow well  groundwater   \n",
              "56429  rainwater harvesting  rainwater harvesting      surface   \n",
              "...                     ...                   ...          ...   \n",
              "30428          shallow well          shallow well  groundwater   \n",
              "60259          shallow well          shallow well  groundwater   \n",
              "55213          shallow well          shallow well  groundwater   \n",
              "30192          shallow well          shallow well  groundwater   \n",
              "3854           shallow well          shallow well  groundwater   \n",
              "\n",
              "          waterpoint_type waterpoint_type_group             status_group  \n",
              "id                                                                        \n",
              "18191           hand pump             hand pump  functional needs repair  \n",
              "59340           hand pump             hand pump               functional  \n",
              "9535            hand pump             hand pump               functional  \n",
              "35395           hand pump             hand pump               functional  \n",
              "56429  communal standpipe    communal standpipe               functional  \n",
              "...                   ...                   ...                      ...  \n",
              "30428           hand pump             hand pump               functional  \n",
              "60259           hand pump             hand pump               functional  \n",
              "55213           hand pump             hand pump           non functional  \n",
              "30192           hand pump             hand pump               functional  \n",
              "3854            hand pump             hand pump           non functional  \n",
              "\n",
              "[1433 rows x 30 columns]"
            ]
          },
          "execution_count": 54,
          "metadata": {},
          "output_type": "execute_result"
        }
      ],
      "source": [
        "train[train['longitude'] == 0]"
      ]
    },
    {
      "cell_type": "markdown",
      "metadata": {
        "id": "jetWccxMqmzY"
      },
      "source": [
        "# II. Split Data"
      ]
    },
    {
      "cell_type": "markdown",
      "metadata": {
        "id": "y-MPA0qlr-mK"
      },
      "source": [
        "## Split TV from FM"
      ]
    },
    {
      "cell_type": "code",
      "execution_count": null,
      "metadata": {
        "id": "JsquPmP26y7h"
      },
      "outputs": [],
      "source": [
        "target =\n",
        "y = train[target]\n",
        "X = train.drop(columns=target)"
      ]
    },
    {
      "cell_type": "markdown",
      "metadata": {
        "id": "n8jSWomGsLsw"
      },
      "source": [
        "## Training-Validation Split"
      ]
    },
    {
      "cell_type": "code",
      "execution_count": null,
      "metadata": {
        "id": "bXikcdMD2vON"
      },
      "outputs": [],
      "source": [
        "X_train, X_val, y_train, y_val = train_test_split(X, y, test_size=0.2, random_state=42)"
      ]
    },
    {
      "cell_type": "markdown",
      "metadata": {
        "id": "WX9uvMMgs6J_"
      },
      "source": [
        "# III. Establish Baseline\n",
        "\n",
        "- Is this a *regression* or a *classification* problem?"
      ]
    },
    {
      "cell_type": "code",
      "execution_count": null,
      "metadata": {
        "id": "g9i5ZQxcwJ3u"
      },
      "outputs": [],
      "source": []
    },
    {
      "cell_type": "code",
      "execution_count": null,
      "metadata": {
        "id": "oTW9yRjI2wzD"
      },
      "outputs": [],
      "source": [
        "print('baseline accuracy:',)"
      ]
    },
    {
      "cell_type": "markdown",
      "metadata": {
        "id": "MA19NsrFtgTT"
      },
      "source": [
        "# IV. Build Model(s)"
      ]
    },
    {
      "cell_type": "markdown",
      "metadata": {
        "id": "Q2_AEFsZKGCK"
      },
      "source": [
        "**First Model:** Logistic Regression"
      ]
    },
    {
      "cell_type": "code",
      "execution_count": null,
      "metadata": {
        "id": "wRziCiGa2ynR"
      },
      "outputs": [],
      "source": [
        "model_lr = make_pipeline()\n",
        "\n",
        "model_lr.fit(X_train, y_train)"
      ]
    },
    {
      "cell_type": "markdown",
      "metadata": {
        "id": "AMFtqMtkMbRw"
      },
      "source": [
        "**Second Model:** Decision Tree Classifier"
      ]
    },
    {
      "cell_type": "code",
      "execution_count": null,
      "metadata": {
        "id": "ukHNb4IND00z"
      },
      "outputs": [],
      "source": [
        "model_dt = make_pipeline()\n",
        "\n",
        "model_dt.fit(X_train, y_train)"
      ]
    },
    {
      "cell_type": "markdown",
      "metadata": {
        "id": "D63CwGlVvtSu"
      },
      "source": [
        "**Interlude: How does a tree model work?**"
      ]
    },
    {
      "cell_type": "code",
      "execution_count": null,
      "metadata": {
        "id": "k5gp7tIowkDB"
      },
      "outputs": [],
      "source": []
    },
    {
      "cell_type": "code",
      "execution_count": null,
      "metadata": {
        "id": "66LHM-tGwTP7"
      },
      "outputs": [],
      "source": []
    },
    {
      "cell_type": "markdown",
      "metadata": {
        "id": "v7Cr2n7Vu9cb"
      },
      "source": [
        "# V. Check Metrics"
      ]
    },
    {
      "cell_type": "code",
      "execution_count": null,
      "metadata": {
        "id": "vmjtTct2IoXk"
      },
      "outputs": [],
      "source": [
        "print('model_lr accuracy score for training',)\n",
        "print('model_lr accuracy score for val', )"
      ]
    },
    {
      "cell_type": "code",
      "execution_count": null,
      "metadata": {
        "id": "DUix0NCRNUO-"
      },
      "outputs": [],
      "source": [
        "\n",
        "print('model_dt accuracy score for training', )\n",
        "print('model_dt accuracy score for val', )"
      ]
    },
    {
      "cell_type": "markdown",
      "metadata": {
        "id": "gln6sVSS4ZmQ"
      },
      "source": [
        "# VI. Tune Model"
      ]
    },
    {
      "cell_type": "code",
      "execution_count": null,
      "metadata": {
        "id": "vvDNrDeqx2Av"
      },
      "outputs": [],
      "source": [
        "depths = range(5, 20, 2)\n",
        "list(depths)"
      ]
    },
    {
      "cell_type": "code",
      "execution_count": null,
      "metadata": {
        "id": "YCEP2xq0TcuG"
      },
      "outputs": [],
      "source": [
        "# very similar steps to how we tuned alpha for ridge regression\n",
        "\n",
        "# train_acc = []\n",
        "# val_acc = []\n",
        "\n",
        "\n",
        "#   tree_model.fit(X_train, y_train)\n",
        "#   train_acc.append(tree_model.score(X_train, y_train))\n",
        "#   val_acc.append(tree_model.score(X_val, y_val))"
      ]
    },
    {
      "cell_type": "code",
      "execution_count": null,
      "metadata": {
        "id": "nckQirvjapf2"
      },
      "outputs": [],
      "source": [
        "\n",
        "# plt.plot(depths, train_acc, color='blue', label='training')\n",
        "# plt.plot(depths, val_acc, color='orange', label='validation')\n",
        "# plt.xlabel('max_depth')\n",
        "# plt.ylabel('accuracy')\n",
        "# plt.title('Validation Curves') # These plots are called VALIDATION CURVES!\n",
        "# plt.legend()\n",
        "# plt.show()"
      ]
    },
    {
      "cell_type": "markdown",
      "metadata": {
        "id": "syHY33Wr2O9F"
      },
      "source": [
        "# VII. Communicate Results\n"
      ]
    },
    {
      "cell_type": "markdown",
      "metadata": {
        "id": "4BXV7dsiUhyo"
      },
      "source": [
        "### Gini importance"
      ]
    },
    {
      "cell_type": "code",
      "execution_count": null,
      "metadata": {
        "id": "D0RpRkqalde9"
      },
      "outputs": [],
      "source": [
        "features =\n",
        "gini_importances =\n",
        "pd.Series(data=gini_importances, index=features).sort_values(key=abs).tail(10).plot(kind='barh')\n",
        "plt.ylabel('features')\n",
        "plt.xlabel('gini importance');"
      ]
    },
    {
      "cell_type": "markdown",
      "metadata": {
        "id": "SG9I4zGa-r5S"
      },
      "source": [
        "# VIII. Kaggle Submission"
      ]
    },
    {
      "cell_type": "code",
      "execution_count": null,
      "metadata": {
        "id": "DhcwcQRylmfY"
      },
      "outputs": [],
      "source": [
        "predictions = pd.DataFrame(data=model_lr.predict(X_test), index=X_test.index)"
      ]
    },
    {
      "cell_type": "code",
      "execution_count": null,
      "metadata": {
        "id": "xi6HV3GBlqVV"
      },
      "outputs": [],
      "source": [
        "predictions.columns = ['status_group']"
      ]
    },
    {
      "cell_type": "code",
      "execution_count": null,
      "metadata": {
        "id": "HUorQNw51cYF"
      },
      "outputs": [],
      "source": [
        "predictions"
      ]
    },
    {
      "cell_type": "code",
      "execution_count": null,
      "metadata": {
        "id": "aNdxTAd0lswo"
      },
      "outputs": [],
      "source": [
        "# generate CSV\n",
        "predictions.to_csv('new_submission.csv')"
      ]
    },
    {
      "cell_type": "code",
      "execution_count": null,
      "metadata": {
        "id": "IaicJnyLrWES"
      },
      "outputs": [],
      "source": []
    }
  ],
  "metadata": {
    "colab": {
      "provenance": []
    },
    "kernelspec": {
      "display_name": "Python 3 (ipykernel)",
      "language": "python",
      "name": "python3"
    },
    "language_info": {
      "codemirror_mode": {
        "name": "ipython",
        "version": 3
      },
      "file_extension": ".py",
      "mimetype": "text/x-python",
      "name": "python",
      "nbconvert_exporter": "python",
      "pygments_lexer": "ipython3",
      "version": "3.11.7"
    }
  },
  "nbformat": 4,
  "nbformat_minor": 0
}
